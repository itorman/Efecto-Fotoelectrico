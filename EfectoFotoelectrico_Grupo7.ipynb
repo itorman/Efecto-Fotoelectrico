{
 "cells": [
  {
   "cell_type": "markdown",
   "metadata": {
    "nteract": {
     "transient": {
      "deleting": false
     }
    }
   },
   "source": [
    "# EFECTO FOTOELÉCTRICO\n",
    "<center>\n",
    "    <img align=\"center\" width=\"900\" height=\"500\" src=\"https://image.slidesharecdn.com/efectofotoelectricoyefectocomptongendersonorozco-161211221108/95/efecto-foto-electrico-y-efecto-compton-genderson-orozco-2-638.jpg?cb=1481494374\" alt=\"Efecto fotoeléctrico\"/>\n",
    "</center>"
   ]
  },
  {
   "cell_type": "markdown",
   "metadata": {
    "nteract": {
     "transient": {
      "deleting": false
     }
    }
   },
   "source": [
    "*El objetivo de la práctica es la determinación de la energía de arranque de los electrones de un metal ($\\phi$) y el valor de la constante de Planck ($\\hslash$). Para ello, disponemos de una lámpara virtual que emite luz de distintas frecuencias y placas (también virtuales) de distintos metales (sodio, cinc, calcio, etc.), que van a ser iluminadas por la mencionada fuente de luz.*"
   ]
  },
  {
   "cell_type": "markdown",
   "metadata": {
    "nteract": {
     "transient": {
      "deleting": false
     }
    }
   },
   "source": [
    "# Ejercicios\n",
    "\n",
    "## Primer ejercicio\n",
    "\n",
    "*Realización de una tabla rápida con el nombre de cada color del arcoíris con sus respectivas longitudes de onda (en metros) y su frecuencia (en Hercios).*\n",
    "\n",
    "|Color|Longitud de onda en $10^{-9}\\ \\mathrm{(m)}$| Frecuencia en $10^{12}\\ \\mathrm{(Hz)}$|\n",
    "|---|---|---|\n",
    "|Rojo|  620 - 750 |  400 - 484|\n",
    "|Ámbar|  590 - 620 |  484 - 508 |\n",
    "|Amarillo|  570 - 590|  508 - 526 |\n",
    "|Verde|  495 - 570 |  526 - 606 |\n",
    "|Cian|  475 - 495 |  606 - 630 |\n",
    "|Azul|  450 - 475 |  630 - 668 |\n",
    "|Violeta|  380 - 450 |  668 - 789 |\n",
    "\n",
    "*¿Cuál es la relación matemática entre longitud de onda y frecuencia de una onda electromagnética?*\n",
    "\n",
    "Sabiendo que la longitud de onda es la distancia que recorre una onda durante un periodo o ciclo completo, que en el sistema métrico internacional se expresa en $ \\mathrm{(m)} $, y que la frecuencia es la relación entre el tiempo y el periodo, es decir, la cantidad de ciclos por unidad de tiempo, que en el sistema métrico internacional se expresa en $ \\mathrm{(Hz)} $, que es la unidad que representa el número de ciclos contenidos en un segundo.\n",
    "\n",
    "<a title=\"Dicklyon (Richard F. Lyon), CC BY-SA 3.0 &lt;https://creativecommons.org/licenses/by-sa/3.0&gt;, via Wikimedia Commons\" href=\"https://commons.wikimedia.org/wiki/File:Sine_wavelength.svg\"><img width=\"400\" alt=\"Sine wavelength\" src=\"https://upload.wikimedia.org/wikipedia/commons/thumb/6/62/Sine_wavelength.svg/512px-Sine_wavelength.svg.png\"></a>\n",
    "- <a href=\"https://commons.wikimedia.org/wiki/File:Sine_wavelength.svg\">Dicklyon (Richard F. Lyon)</a>, via Wikimedia Commons\n",
    "\n",
    "\n",
    "Por tanto, no es difícil darse cuenta de que al aumentar la frecuencia $(f)$, se reduce la longitud de onda $(\\lambda)$ de manera inversamente proporcional. De modo que, para una velocidad de propagación constante $(c)$, la distancia recorrida por una onda, en un periodo es:\n",
    "\n",
    "$$ \\lambda= \\frac{c}{f} $$\n",
    "y a su vez:\n",
    "$$ f=\\frac{c}{\\lambda} $$\n"
   ]
  },
  {
   "cell_type": "markdown",
   "metadata": {
    "nteract": {
     "transient": {
      "deleting": false
     }
    }
   },
   "source": [
    "*Toma de medidas con el applet del efecto Fotoeléctrico*\n",
    "\n",
    "Se procede a la toma de muestras experimentales con 4 metales, obteniendo parejas de valores de longitud de onda (en nanometros) y voltaje (en voltios) . Seguidamente se muestra en una tabla los resultados obtenidos.\n",
    "\n",
    "|Na  |  Zn |  Ca |  Cu |   \n",
    "|---|---|---|---|\n",
    "| 400 / -0.75   | 250 / -0.60  | 350 / -0.55  | 240 / -0.23  |   \n",
    "|  350 / -1.20 |   200 / -1.84|  300/ -1.16 | 200 / -1.41  |   \n",
    "| 300 / -1.78  |   150 /  -3.92|  250 / -2.01 | 150 / -3.52   |   \n",
    "|  250 / -2.62 |   120 / -5.98|  200 / -3.26 |  100 / -7.64 | \n",
    "\n",
    "Seguidamente introducimos los valores resultantes en sendos arrays de Javascript. El array en el que guardaremos las logitudes de onda hará la conversión de nanometros a la medida del S.I. que son los metros.\n"
   ]
  },
  {
   "cell_type": "code",
   "execution_count": 102,
   "metadata": {
    "collapsed": false,
    "jupyter": {
     "outputs_hidden": false,
     "source_hidden": false
    },
    "nteract": {
     "transient": {
      "deleting": false
     }
    }
   },
   "outputs": [],
   "source": [
    "/*******************************************\n",
    "*  Voltajes medidos - sodio \n",
    "********************************************/\n",
    "var longitudes_de_onda_medidas_sodio= [250, 300, 350, 400].map(x => x*1e-9);  // para pasar a metros\n",
    "var voltajes_medidos_sodio = [-2.62, -1.78, -1.20, -0.75];  // en voltios (voltaje de frenado)"
   ]
  },
  {
   "cell_type": "code",
   "execution_count": 103,
   "metadata": {
    "collapsed": false,
    "jupyter": {
     "outputs_hidden": false,
     "source_hidden": false
    },
    "nteract": {
     "transient": {
      "deleting": false
     }
    }
   },
   "outputs": [],
   "source": [
    "/*******************************************\n",
    "*  Voltajes medidos - zinc\n",
    "********************************************/\n",
    "var longitudes_de_onda_medidas_zinc= [120, 150, 200, 250].map(x => x*1e-9);  // para pasar a metros\n",
    "var voltajes_medidos_zinc = [-5.98, -3.92, -1.84, -0.6];  // en voltios (voltaje de frenado)"
   ]
  },
  {
   "cell_type": "code",
   "execution_count": 104,
   "metadata": {
    "collapsed": false,
    "jupyter": {
     "outputs_hidden": false,
     "source_hidden": false
    },
    "nteract": {
     "transient": {
      "deleting": false
     }
    }
   },
   "outputs": [],
   "source": [
    "/*******************************************\n",
    "*  Voltajes medidos - calcio\n",
    "********************************************/\n",
    "var longitudes_de_onda_medidas_calcio= [200, 250, 300, 350].map(x => x*1e-9);  // para pasar a metros\n",
    "var voltajes_medidos_calcio = [-3.26, -2.01, -1.16, -0.55];  // en voltios (voltaje de frenado)"
   ]
  },
  {
   "cell_type": "code",
   "execution_count": 105,
   "metadata": {
    "collapsed": false,
    "jupyter": {
     "outputs_hidden": false,
     "source_hidden": false
    },
    "nteract": {
     "transient": {
      "deleting": false
     }
    }
   },
   "outputs": [],
   "source": [
    "/*******************************************\n",
    "*  Voltajes medidos - cobre\n",
    "********************************************/\n",
    "var longitudes_de_onda_medidas_cobre= [100, 150, 200, 240].map(x => x*1e-9);  // para pasar a metros\n",
    "var voltajes_medidos_cobre = [-7.64, -3.52, -1.41, -0.23];  // en voltios (voltaje de frenado)"
   ]
  },
  {
   "cell_type": "markdown",
   "metadata": {
    "nteract": {
     "transient": {
      "deleting": false
     }
    }
   },
   "source": [
    "*Ajuste a una recta con regression.js*\n",
    "\n",
    "Para poder utilizar los datos obtenidos mediante las mediciones experimentales, debemos realizar ajustes y conversiones previas: vamos a convertir los arrays en tuplas y a calcular la inversa de la longitud de onda $\\lambda^{-1}$.\n",
    "Para ello vamos a utilizar una implementación Javascript con el siguiente código:\n"
   ]
  },
  {
   "cell_type": "code",
   "execution_count": 106,
   "metadata": {
    "collapsed": false,
    "jupyter": {
     "outputs_hidden": false,
     "source_hidden": false
    },
    "nteract": {
     "transient": {
      "deleting": false
     }
    }
   },
   "outputs": [
    {
     "name": "stdout",
     "output_type": "stream",
     "text": [
      "[ [ 3999999.9999999995, -2.62 ],\n",
      "  [ 3333333.333333333, -1.78 ],\n",
      "  [ 2857142.857142857, -1.2 ],\n",
      "  [ 2500000, -0.75 ] ]\n"
     ]
    }
   ],
   "source": [
    "/*************************************************************************\n",
    "*  Cambio unidad de longitud de onda a frecuencia para datos - sodio\n",
    "**************************************************************************/\n",
    "inversa_de_longitudes_de_onda_sodio = longitudes_de_onda_medidas_sodio.map(lambda => 1/lambda);  \n",
    "var datos_a_ajustar_sodio = voltajes_medidos_sodio.reduce((tuplas_longitud_onda_voltaje, b, i) => {\n",
    "    tuplas_longitud_onda_voltaje.push([inversa_de_longitudes_de_onda_sodio[i], b]);\n",
    "  return tuplas_longitud_onda_voltaje;\n",
    "}, []);\n",
    "console.log(datos_a_ajustar_sodio); // Verás que son tuplas de valores 1/lambda y voltajes"
   ]
  },
  {
   "cell_type": "code",
   "execution_count": 107,
   "metadata": {
    "collapsed": false,
    "jupyter": {
     "outputs_hidden": false,
     "source_hidden": false
    },
    "nteract": {
     "transient": {
      "deleting": false
     }
    }
   },
   "outputs": [
    {
     "name": "stdout",
     "output_type": "stream",
     "text": [
      "[ [ 8333333.333333332, -5.98 ],\n",
      "  [ 6666666.666666666, -3.92 ],\n",
      "  [ 5000000, -1.84 ],\n",
      "  [ 3999999.9999999995, -0.6 ] ]\n"
     ]
    }
   ],
   "source": [
    "/*************************************************************************\n",
    "*  Cambio unidad de longitud de onda a frecuencia para datos - zinc\n",
    "**************************************************************************/\n",
    "inversa_de_longitudes_de_onda_zinc = longitudes_de_onda_medidas_zinc.map(lambda => 1/lambda );  \n",
    "var datos_a_ajustar_zinc = voltajes_medidos_zinc.reduce((tuplas_longitud_onda_voltaje, b, i) => {\n",
    "    tuplas_longitud_onda_voltaje.push([inversa_de_longitudes_de_onda_zinc[i], b]);\n",
    "  return tuplas_longitud_onda_voltaje;\n",
    "}, []);\n",
    "console.log(datos_a_ajustar_zinc); // Verás que son tuplas de valores 1/lambda y voltajes"
   ]
  },
  {
   "cell_type": "code",
   "execution_count": 108,
   "metadata": {
    "collapsed": false,
    "jupyter": {
     "outputs_hidden": false,
     "source_hidden": false
    },
    "nteract": {
     "transient": {
      "deleting": false
     }
    }
   },
   "outputs": [
    {
     "name": "stdout",
     "output_type": "stream",
     "text": [
      "[ [ 5000000, -3.26 ],\n",
      "  [ 3999999.9999999995, -2.01 ],\n",
      "  [ 3333333.333333333, -1.16 ],\n",
      "  [ 2857142.857142857, -0.55 ] ]\n"
     ]
    }
   ],
   "source": [
    "/*************************************************************************\n",
    "*  Cambio unidad de longitud de onda a frecuencia para datos - calcio\n",
    "**************************************************************************/\n",
    "inversa_de_longitudes_de_onda_calcio = longitudes_de_onda_medidas_calcio.map(lambda => 1/lambda );  \n",
    "var datos_a_ajustar_calcio = voltajes_medidos_calcio.reduce((tuplas_longitud_onda_voltaje, b, i) => {\n",
    "    tuplas_longitud_onda_voltaje.push([inversa_de_longitudes_de_onda_calcio[i], b]);\n",
    "  return tuplas_longitud_onda_voltaje;\n",
    "}, []);\n",
    "console.log(datos_a_ajustar_calcio); // Verás que son tuplas de valores 1/lambda y voltajes"
   ]
  },
  {
   "cell_type": "code",
   "execution_count": 109,
   "metadata": {
    "collapsed": false,
    "jupyter": {
     "outputs_hidden": false,
     "source_hidden": false
    },
    "nteract": {
     "transient": {
      "deleting": false
     }
    }
   },
   "outputs": [
    {
     "name": "stdout",
     "output_type": "stream",
     "text": [
      "[ [ 10000000, -7.64 ],\n",
      "  [ 6666666.666666666, -3.52 ],\n",
      "  [ 5000000, -1.41 ],\n",
      "  [ 4166666.666666666, -0.23 ] ]\n"
     ]
    }
   ],
   "source": [
    "/*************************************************************************\n",
    "*  Cambio unidad de longitud de onda a frecuencia para datos - cobre\n",
    "**************************************************************************/\n",
    "inversa_de_longitudes_de_onda_cobre = longitudes_de_onda_medidas_cobre.map(lambda => 1/lambda );  \n",
    "var datos_a_ajustar_cobre = voltajes_medidos_cobre.reduce((tuplas_longitud_onda_voltaje, b, i) => {\n",
    "    tuplas_longitud_onda_voltaje.push([inversa_de_longitudes_de_onda_cobre[i], b]);\n",
    "  return tuplas_longitud_onda_voltaje;\n",
    "}, []);\n",
    "console.log(datos_a_ajustar_cobre); // Verás que son tuplas de valores 1/lambda y voltajes"
   ]
  },
  {
   "cell_type": "markdown",
   "metadata": {
    "nteract": {
     "transient": {
      "deleting": false
     }
    }
   },
   "source": [
    "\n",
    "A continuación, ya podemos realizar el ajuste a la recta de regresión para poder obtener los valores $m$ y $b$, correspondientes con la pendiente y la ordenada de la recta. Para ello utilizamos el siguiente código Javascript:\n"
   ]
  },
  {
   "cell_type": "code",
   "execution_count": 110,
   "metadata": {
    "collapsed": false,
    "jupyter": {
     "outputs_hidden": false,
     "source_hidden": false
    },
    "nteract": {
     "transient": {
      "deleting": false
     }
    }
   },
   "outputs": [
    {
     "name": "stdout",
     "output_type": "stream",
     "text": [
      "la pendiente es = -0.000001244344897 y la ordenada es = 2.360332322029762\n"
     ]
    }
   ],
   "source": [
    "/*************************************************************************\n",
    "*  Calcular regresion de datos - sodio\n",
    "**************************************************************************/\n",
    "var regression = require('./regression.js');\n",
    "var result = regression.linear(datos_a_ajustar_sodio, { precision: 15 });\n",
    "var m_sodio = result.equation[0];  // pendiente\n",
    "var b_sodio = result.equation[1];  // ordenada en origen\n",
    "console.log('la pendiente es = ' + m_sodio + ' y la ordenada es = ' + b_sodio);"
   ]
  },
  {
   "cell_type": "code",
   "execution_count": 111,
   "metadata": {
    "collapsed": false,
    "jupyter": {
     "outputs_hidden": false,
     "source_hidden": false
    },
    "nteract": {
     "transient": {
      "deleting": false
     }
    }
   },
   "outputs": [
    {
     "name": "stdout",
     "output_type": "stream",
     "text": [
      "la pendiente es = -0.000001242244898 y la ordenada es = 4.368469388\n"
     ]
    }
   ],
   "source": [
    "/*************************************************************************\n",
    "*  Calcular regresion de datos - zinc\n",
    "**************************************************************************/\n",
    "var regression = require('./regression.js');\n",
    "var result = regression.linear(datos_a_ajustar_zinc, { precision: 15 });\n",
    "var m_zinc = result.equation[0];  // pendiente\n",
    "var b_zinc = result.equation[1];  // ordenada en origen\n",
    "console.log('la pendiente es = ' + m_zinc + ' y la ordenada es = ' + b_zinc);"
   ]
  },
  {
   "cell_type": "code",
   "execution_count": 112,
   "metadata": {
    "collapsed": false,
    "jupyter": {
     "outputs_hidden": false,
     "source_hidden": false
    },
    "nteract": {
     "transient": {
      "deleting": false
     }
    }
   },
   "outputs": [
    {
     "name": "stdout",
     "output_type": "stream",
     "text": [
      "la pendiente es = -0.000001264418146 y la ordenada es = 3.056778435404762\n"
     ]
    }
   ],
   "source": [
    "/*************************************************************************\n",
    "*  Calcular regresion de datos - calcio\n",
    "**************************************************************************/\n",
    "var regression = require('./regression.js');\n",
    "var result = regression.linear(datos_a_ajustar_calcio, { precision: 15 });\n",
    "var m_calcio = result.equation[0];  // pendiente\n",
    "var b_calcio = result.equation[1];  // ordenada en origen\n",
    "console.log('la pendiente es = ' + m_calcio + ' y la ordenada es = ' + b_calcio);"
   ]
  },
  {
   "cell_type": "code",
   "execution_count": 113,
   "metadata": {
    "collapsed": false,
    "jupyter": {
     "outputs_hidden": false,
     "source_hidden": false
    },
    "nteract": {
     "transient": {
      "deleting": false
     }
    }
   },
   "outputs": [
    {
     "name": "stdout",
     "output_type": "stream",
     "text": [
      "la pendiente es = -0.000001262608696 y la ordenada es = 4.954347828333332\n"
     ]
    }
   ],
   "source": [
    "/*************************************************************************\n",
    "*  Calcular regresion de datos - cobre\n",
    "**************************************************************************/\n",
    "var regression = require('./regression.js');\n",
    "var result = regression.linear(datos_a_ajustar_cobre, { precision: 15 });\n",
    "var m_cobre = result.equation[0];  // pendiente\n",
    "var b_cobre = result.equation[1];  // ordenada en origen\n",
    "console.log('la pendiente es = ' + m_cobre + ' y la ordenada es = ' + b_cobre);"
   ]
  },
  {
   "cell_type": "markdown",
   "metadata": {
    "nteract": {
     "transient": {
      "deleting": false
     }
    }
   },
   "source": [
    "\n",
    "Como se puede observar de las mediciones experimentales anteriores, el valor de la pendiente, $m$, permanece practicamente invariable, mientras que el valor de la ordenada, $b$, es variable en relación del metal con que se experimenta.\n",
    "Esto es así, y se demostrará seguidamente, porque $m$ está determinada por un valor constante, la denominada constante de Plank, mientras que $b$ está determinada por lo que llamaremos Energía de arranque, o función de trabajo, la cual es diferente para cada metal.\n"
   ]
  },
  {
   "cell_type": "markdown",
   "metadata": {
    "nteract": {
     "transient": {
      "deleting": false
     }
    }
   },
   "source": [
    "## Segundo ejercicio\n",
    "*Obtención de $\\hslash$ (constante de Plank) y $\\phi$ (la función de trabajo)*.  \n",
    "\n",
    "Tal como se ha comentado en el primer punto de la actividad, sabemos que, para una velocidad de propagación constante $(c)$, la frecuencia $(f)$ es inversa de la longitud de onda $(\\lambda)$, por la velocidad.  \n",
    "\n",
    "$$ f=\\frac{c}{\\lambda} \\text{, donde } c \\text{ puede ser la velocidad de la luz.} $$\n",
    "\n",
    "Partiendo de la expresión ($ eV=2\\pi\\hslash f-\\phi $) se puede deducir que,\n",
    "\n",
    "$$ eV=2\\pi\\hslash \\frac{c}{\\lambda}-\\phi \\Rightarrow V= \\frac{2c\\pi\\hslash}{e} \\frac{1}{\\lambda}-\\frac{\\phi}{e} $$\n",
    "\n",
    "Como hemos visto anteriormente, se ha usado esta expresión para obtener la ecuación de la recta, tal que: \n",
    "\n",
    "$$ V= m \\frac{1}{\\lambda}+b $$\n",
    "\n",
    "donde $m$ es la pendiente de la recta calculada, y $b$ es la ordenada que se obtiene en función de cada elemento utilizado.\n",
    "\n",
    "Por lo tanto, podemos decir que:\n",
    "\n",
    "$$ m=\\frac{2c\\pi\\hslash}{e} \\Rightarrow \\hslash=\\frac{em}{2c\\pi} $$\n",
    "\n",
    "y que:\n",
    "\n",
    "$$ b=-\\frac{\\phi}{e} \\Rightarrow \\phi=-be $$\n",
    "\n",
    "Con los resultados obtenidos en cualquiera de las regresiones tenemos, por ejemplo el sodio,\n",
    "\n",
    "$$ \\hslash=\\frac{ -1.244 \\cdot 10^{-6} \\cdot e }{2c\\pi} \\Rightarrow h=\\frac{ -1.244 \\cdot 10^{-6} \\cdot e }{c}$$\n",
    "\n",
    "$$ \\phi_{cu}=-2.36e $$"
   ]
  },
  {
   "cell_type": "markdown",
   "metadata": {
    "nteract": {
     "transient": {
      "deleting": false
     }
    }
   },
   "source": [
    "## Tercer ejercicio\n",
    "*Representar gráficamente los datos experimentales y la recta obtenida.*\n",
    "\n",
    "Para ello, vamos a hacer uso de la biblioteca ya integrada en nteract \"Plotly\"\n"
   ]
  },
  {
   "cell_type": "code",
   "execution_count": 114,
   "metadata": {
    "nteract": {
     "transient": {
      "deleting": false
     }
    },
    "tags": [
     "parameters"
    ]
   },
   "outputs": [],
   "source": [
    "/***************************************************************************\n",
    "*  Habilitar librería de representación gráfica JS para nteract - Method ACB\n",
    "****************************************************************************/\n",
    "function Plotly(data, layout, $$) {\n",
    "    $$ = $$ || global.$$;\n",
    "    $$.mime({ \"application/vnd.plotly.v1+json\": { data: data, layout: layout } });\n",
    "}"
   ]
  },
  {
   "cell_type": "code",
   "execution_count": 115,
   "metadata": {},
   "outputs": [
    {
     "data": {
      "text/html": [
       "<script>require([\"https://cdn.plot.ly/plotly-latest.min.js\"], function(Plotly) { if (Plotly) window.Plotly = Plotly; })</script>"
      ]
     },
     "execution_count": 115,
     "metadata": {},
     "output_type": "execute_result"
    }
   ],
   "source": [
    "/***************************************************************************\n",
    "*  Habilitar librería de representación gráfica JS para nteract - Method G07\n",
    "****************************************************************************/\n",
    "$$.html('<script>require([\"https://cdn.plot.ly/plotly-latest.min.js\"], function(Plotly) { if (Plotly) window.Plotly = Plotly; })</script>');\n",
    "var Plot = require('plotly-notebook-js');"
   ]
  },
  {
   "cell_type": "markdown",
   "metadata": {
    "nteract": {
     "transient": {
      "deleting": false
     }
    }
   },
   "source": [
    "\n",
    "Para dibujar la recta, tenemos que calcular los puntos $y$ (voltajes) para los mismos valores de $x$ (inversas de las longitudes de onda medidas con el applet), con los resultados de $m$ y $b$ que hemos obtenido con el ajuste anterior.\n",
    "\n",
    "Matemáticamente:\n",
    "$$V_{calculado}\\, = m\\, \\cdot\\, \\frac{1}{\\lambda}\\, + \\, b$$"
   ]
  },
  {
   "cell_type": "markdown",
   "metadata": {
    "nteract": {
     "transient": {
      "deleting": false
     }
    }
   },
   "source": [
    "\n",
    "En Javascript este cálculo se puede hacer de manera muy sencilla, mediante el método $map$ sobre el array de frecuencias medidas:\n"
   ]
  },
  {
   "cell_type": "code",
   "execution_count": 116,
   "metadata": {
    "collapsed": false,
    "jupyter": {
     "outputs_hidden": false,
     "source_hidden": false
    },
    "nteract": {
     "transient": {
      "deleting": false
     }
    }
   },
   "outputs": [
    {
     "name": "stdout",
     "output_type": "stream",
     "text": [
      "[ -2.6170472659702377,\n",
      "  -1.787484001303571,\n",
      "  -1.1949388122559519,\n",
      "  -0.750529920470238 ]\n"
     ]
    }
   ],
   "source": [
    "/*************************************************************************\n",
    "*  Cálculo de potencial de frenado utilizando m y b obtenidos - sodio\n",
    "**************************************************************************/\n",
    "voltajes_calculados_sodio = inversa_de_longitudes_de_onda_sodio.map(inversa_lambda => inversa_lambda * m_sodio + b_sodio);\n",
    "console.log(voltajes_calculados_sodio);"
   ]
  },
  {
   "cell_type": "code",
   "execution_count": 117,
   "metadata": {
    "collapsed": false,
    "jupyter": {
     "outputs_hidden": false,
     "source_hidden": false
    },
    "nteract": {
     "transient": {
      "deleting": false
     }
    }
   },
   "outputs": [
    {
     "name": "stdout",
     "output_type": "stream",
     "text": [
      "[ -5.983571428666665,\n",
      "  -3.913163265333332,\n",
      "  -1.842755102,\n",
      "  -0.600510203999999 ]\n"
     ]
    }
   ],
   "source": [
    "/*************************************************************************\n",
    "*  Cálculo de potencial de frenado utilizando m y b obtenidos - zinc\n",
    "**************************************************************************/\n",
    "voltajes_calculados_zinc = inversa_de_longitudes_de_onda_zinc.map(inversa_lambda => inversa_lambda * m_zinc + b_zinc);\n",
    "console.log(voltajes_calculados_zinc);"
   ]
  },
  {
   "cell_type": "code",
   "execution_count": 118,
   "metadata": {
    "collapsed": false,
    "jupyter": {
     "outputs_hidden": false,
     "source_hidden": false
    },
    "nteract": {
     "transient": {
      "deleting": false
     }
    }
   },
   "outputs": [
    {
     "data": {
      "text/plain": [
       "[ -3.265312294595238,\n",
       "  -2.0008941485952376,\n",
       "  -1.1579487179285715,\n",
       "  -0.5558448388809523 ]"
      ]
     },
     "execution_count": 118,
     "metadata": {},
     "output_type": "execute_result"
    }
   ],
   "source": [
    "/*************************************************************************\n",
    "*  Cálculo de potencial de frenado utilizando m y b obtenidos - calcio\n",
    "**************************************************************************/\n",
    "voltajes_calculados_calcio = inversa_de_longitudes_de_onda_calcio.map(inversa_lambda => inversa_lambda * m_calcio + b_calcio);"
   ]
  },
  {
   "cell_type": "code",
   "execution_count": 119,
   "metadata": {
    "collapsed": false,
    "jupyter": {
     "outputs_hidden": false,
     "source_hidden": false
    },
    "nteract": {
     "transient": {
      "deleting": false
     }
    }
   },
   "outputs": [
    {
     "data": {
      "text/plain": [
       "[ -7.671739131666668,\n",
       "  -3.4630434783333337,\n",
       "  -1.3586956516666682,\n",
       "  -0.30652173833333407 ]"
      ]
     },
     "execution_count": 119,
     "metadata": {},
     "output_type": "execute_result"
    }
   ],
   "source": [
    "/*************************************************************************\n",
    "*  Cálculo de potencial de frenado utilizando m y b obtenidos - cobre\n",
    "**************************************************************************/\n",
    "voltajes_calculados_cobre = inversa_de_longitudes_de_onda_cobre.map(inversa_lambda => inversa_lambda * m_cobre + b_cobre);"
   ]
  },
  {
   "cell_type": "markdown",
   "metadata": {
    "nteract": {
     "transient": {
      "deleting": false
     }
    }
   },
   "source": [
    "\n",
    "De esta forma, comprobamos que los valores calculados mediante JavaScript coinciden aproximadamente con los obtenidos inicialmente de forma experimental:\n"
   ]
  },
  {
   "cell_type": "code",
   "execution_count": 120,
   "metadata": {
    "collapsed": false,
    "jupyter": {
     "outputs_hidden": false,
     "source_hidden": false
    },
    "nteract": {
     "transient": {
      "deleting": false
     }
    }
   },
   "outputs": [
    {
     "name": "stdout",
     "output_type": "stream",
     "text": [
      "SODIO\n",
      "------\n",
      "En el caso del sodio, los voltajes medidos en el experimento: \n",
      "[ -2.62, -1.78, -1.2, -0.75 ]\n",
      "\n",
      " son aproximadamente iguales a los voltajes obtenidos matemáticamente: \n",
      "[ -2.6170472659702377,\n",
      "  -1.787484001303571,\n",
      "  -1.1949388122559519,\n",
      "  -0.750529920470238 ]\n"
     ]
    }
   ],
   "source": [
    "/*************************************************************************\n",
    "*  Comparar resultados: datos experimentales vs datos calculados - sodio\n",
    "**************************************************************************/\n",
    "console.log('SODIO');\n",
    "console.log('------');\n",
    "console.log('En el caso del sodio, los voltajes medidos en el experimento: ');\n",
    "console.log(voltajes_medidos_sodio);\n",
    "console.log('');\n",
    "console.log(' son aproximadamente iguales a los voltajes obtenidos matemáticamente: ');\n",
    "console.log(voltajes_calculados_sodio);"
   ]
  },
  {
   "cell_type": "code",
   "execution_count": 121,
   "metadata": {
    "collapsed": false,
    "jupyter": {
     "outputs_hidden": false,
     "source_hidden": false
    },
    "nteract": {
     "transient": {
      "deleting": false
     }
    }
   },
   "outputs": [
    {
     "name": "stdout",
     "output_type": "stream",
     "text": [
      "ZINC\n",
      "------\n",
      "En el caso del zinc, los voltajes medidos en el experimento: \n",
      "[ -5.98, -3.92, -1.84, -0.6 ]\n",
      "\n",
      " son aproximadamente iguales a los voltajes obtenidos matemáticamente: \n",
      "[ -5.983571428666665,\n",
      "  -3.913163265333332,\n",
      "  -1.842755102,\n",
      "  -0.600510203999999 ]\n"
     ]
    }
   ],
   "source": [
    "/*************************************************************************\n",
    "*  Comparar resultados: datos experimentales vs datos calculados - zinc\n",
    "**************************************************************************/\n",
    "console.log('ZINC');\n",
    "console.log('------');\n",
    "console.log('En el caso del zinc, los voltajes medidos en el experimento: ');\n",
    "console.log(voltajes_medidos_zinc);\n",
    "console.log('');\n",
    "console.log(' son aproximadamente iguales a los voltajes obtenidos matemáticamente: ');\n",
    "console.log(voltajes_calculados_zinc);"
   ]
  },
  {
   "cell_type": "code",
   "execution_count": 122,
   "metadata": {
    "collapsed": false,
    "jupyter": {
     "outputs_hidden": false,
     "source_hidden": false
    },
    "nteract": {
     "transient": {
      "deleting": false
     }
    }
   },
   "outputs": [
    {
     "name": "stdout",
     "output_type": "stream",
     "text": [
      "CALCIO\n",
      "------\n",
      "En el caso del calcio, los voltajes medidos en el experimento: \n",
      "[ -3.26, -2.01, -1.16, -0.55 ]\n",
      "\n",
      " son aproximadamente iguales a los voltajes obtenidos matemáticamente: \n",
      "[ -3.265312294595238,\n",
      "  -2.0008941485952376,\n",
      "  -1.1579487179285715,\n",
      "  -0.5558448388809523 ]\n"
     ]
    }
   ],
   "source": [
    "/*************************************************************************\n",
    "*  Comparar resultados: datos experimentales vs datos calculados - calcio\n",
    "**************************************************************************/\n",
    "console.log('CALCIO');\n",
    "console.log('------');\n",
    "console.log('En el caso del calcio, los voltajes medidos en el experimento: ');\n",
    "console.log(voltajes_medidos_calcio);\n",
    "console.log('');\n",
    "console.log(' son aproximadamente iguales a los voltajes obtenidos matemáticamente: ');\n",
    "console.log(voltajes_calculados_calcio);"
   ]
  },
  {
   "cell_type": "code",
   "execution_count": 123,
   "metadata": {
    "collapsed": false,
    "jupyter": {
     "outputs_hidden": false,
     "source_hidden": false
    },
    "nteract": {
     "transient": {
      "deleting": false
     }
    }
   },
   "outputs": [
    {
     "name": "stdout",
     "output_type": "stream",
     "text": [
      "COBRE\n",
      "------\n",
      "En el caso del cobre, los voltajes medidos en el experimento: \n",
      "[ -7.64, -3.52, -1.41, -0.23 ]\n",
      "\n",
      " son aproximadamente iguales a los voltajes obtenidos matemáticamente: \n",
      "[ -7.671739131666668,\n",
      "  -3.4630434783333337,\n",
      "  -1.3586956516666682,\n",
      "  -0.30652173833333407 ]\n"
     ]
    }
   ],
   "source": [
    "/*************************************************************************\n",
    "*  Comparar resultados: datos experimentales vs datos calculados - cobre\n",
    "**************************************************************************/\n",
    "console.log('COBRE');\n",
    "console.log('------');\n",
    "console.log('En el caso del cobre, los voltajes medidos en el experimento: ');\n",
    "console.log(voltajes_medidos_cobre);\n",
    "console.log('');\n",
    "console.log(' son aproximadamente iguales a los voltajes obtenidos matemáticamente: ');\n",
    "console.log(voltajes_calculados_cobre);"
   ]
  },
  {
   "cell_type": "markdown",
   "metadata": {
    "nteract": {
     "transient": {
      "deleting": false
     }
    }
   },
   "source": [
    "\n",
    "Para una mejor interpretación de los datos, dibujamos a continuación ambas rectas obtenidas en una misma gráfica (gracias a la función \"Plotly\" anteriormente habilitada), lo que nos permite compararlas fácilmente de manera visual y para cada uno de los metales.\n",
    "\n",
    "Para ello, calcularemos previamente las frecuencias $ \\mathrm{(Hz)} $ para su posterior representación, mediante la multiplicación de la velocidad de luz, declarada en una variable que llamaremos 'c' y que tiene como unidades los $ \\mathrm{\\big(\\frac{m}{s}\\big)} $, por la inversa de las longitudes de onda $ \\lambda $ calculadas anteriormente para cada metal en $ \\mathrm{(m)} $:\n"
   ]
  },
  {
   "cell_type": "code",
   "execution_count": 124,
   "metadata": {},
   "outputs": [],
   "source": [
    "/****************************************************************************\n",
    "*  Declaración de variable c: velocidad de la luz en metros por segundo (m/s)\n",
    "*****************************************************************************/\n",
    "var c = 299792458"
   ]
  },
  {
   "cell_type": "code",
   "execution_count": 125,
   "metadata": {},
   "outputs": [
    {
     "data": {
      "text/plain": [
       "[ 1199169831999999.8,\n",
       "  999308193333333.2,\n",
       "  856549879999999.9,\n",
       "  749481144999999.9 ]"
      ]
     },
     "execution_count": 125,
     "metadata": {},
     "output_type": "execute_result"
    }
   ],
   "source": [
    "/**************************************************\n",
    "*  Cálculo de frecuencias en hercios (Hz) - sodio\n",
    "***************************************************/\n",
    "frecuencia_sodio = longitudes_de_onda_medidas_sodio.map(frec => c/frec);"
   ]
  },
  {
   "cell_type": "code",
   "execution_count": 126,
   "metadata": {},
   "outputs": [
    {
     "data": {
      "text/plain": [
       "[ 2498270483333333,\n",
       "  1998616386666666.5,\n",
       "  1498962289999999.8,\n",
       "  1199169831999999.8 ]"
      ]
     },
     "execution_count": 126,
     "metadata": {},
     "output_type": "execute_result"
    }
   ],
   "source": [
    "/**************************************************\n",
    "*  Cálculo de frecuencias en hercios (Hz) - zinc\n",
    "***************************************************/\n",
    "frecuencia_zinc = longitudes_de_onda_medidas_zinc.map(frec => c/frec);"
   ]
  },
  {
   "cell_type": "code",
   "execution_count": 127,
   "metadata": {},
   "outputs": [
    {
     "data": {
      "text/plain": [
       "[ 1498962289999999.8,\n",
       "  1199169831999999.8,\n",
       "  999308193333333.2,\n",
       "  856549879999999.9 ]"
      ]
     },
     "execution_count": 127,
     "metadata": {},
     "output_type": "execute_result"
    }
   ],
   "source": [
    "/**************************************************\n",
    "*  Cálculo de frecuencias en hercios (Hz) - calcio\n",
    "***************************************************/\n",
    "frecuencia_calcio = longitudes_de_onda_medidas_calcio.map(frec => c/frec);"
   ]
  },
  {
   "cell_type": "code",
   "execution_count": 128,
   "metadata": {},
   "outputs": [
    {
     "data": {
      "text/plain": [
       "[ 2997924579999999.5,\n",
       "  1998616386666666.5,\n",
       "  1498962289999999.8,\n",
       "  1249135241666666.5 ]"
      ]
     },
     "execution_count": 128,
     "metadata": {},
     "output_type": "execute_result"
    }
   ],
   "source": [
    "/**************************************************\n",
    "*  Cálculo de frecuencias en hercios (Hz) - cobre\n",
    "***************************************************/\n",
    "frecuencia_cobre = longitudes_de_onda_medidas_cobre.map(frec => c/frec);"
   ]
  },
  {
   "cell_type": "code",
   "execution_count": 129,
   "metadata": {},
   "outputs": [
    {
     "data": {
      "text/html": [
       "<div class='plotly-plot'><div id='notebook-plot-1606588226987'></div><script>function plot(){Plotly.plot('notebook-plot-1606588226987',[{\"x\":[1199169831999999.8,999308193333333.2,856549879999999.9,749481144999999.9],\"y\":[-2.62,-1.78,-1.2,-0.75],\"name\":\"Datos experimentales\"},{\"x\":[1199169831999999.8,999308193333333.2,856549879999999.9,749481144999999.9],\"y\":[-2.6170472659702377,-1.787484001303571,-1.1949388122559519,-0.750529920470238],\"name\":\"Datos calculados\"}],{\"title\":\"Datos experimentales vs Datos calculados - Sodio\",\"xaxis\":{\"title\":\"Frecuencia (Hz)\",\"titlefont\":{\"family\":\"Courier New, monospace\",\"size\":18,\"color\":\"#7f7f7f\"}},\"yaxis\":{\"title\":\"Potencial de frenado (V)\",\"titlefont\":{\"family\":\"Courier New, monospace\",\"size\":18,\"color\":\"#7f7f7f\"}}});}if(window.Plotly){plot();}else if(!window.require){var head = document.head || document.getElementsByTagName('head')[0];var s = document.createElement('script');s.src = 'https://cdn.plot.ly/plotly-latest.min.js';s.type = 'text/javascript';s.async = false;s.onreadystatechange = s.onload = plot;head.appendChild(s);}else{require(['/notebooks/node_modules/plotly-notebook-js/build/plotly.min.js'], function(Plotly){window.Plotly = Plotly;plot();});}</script></div>"
      ]
     },
     "execution_count": 129,
     "metadata": {},
     "output_type": "execute_result"
    }
   ],
   "source": [
    "/*************************************************************************\n",
    "*  Dibujar gráfica: datos experimentales vs datos calculados - sodio\n",
    "**************************************************************************/\n",
    "datos_sodio = [\n",
    "  { x: frecuencia_sodio, y: voltajes_medidos_sodio, name: 'Datos experimentales' }, \n",
    "  \n",
    "  { x: frecuencia_sodio, y: voltajes_calculados_sodio, name: 'Datos calculados' }\n",
    "];\n",
    "var layout_sodio = {\n",
    "  title: 'Datos experimentales vs Datos calculados - Sodio',\n",
    "  xaxis: { title: 'Frecuencia (Hz)', titlefont: { family: 'Courier New, monospace', size: 18, color: '#7f7f7f' } },\n",
    "  yaxis: { title: 'Potencial de frenado (V)', titlefont: { family: 'Courier New, monospace', size: 18, color: '#7f7f7f' } }\n",
    "};\n",
    "//Plotly(datos_sodio, layout_sodio);\n",
    "var myPlot_sodio = Plot.createPlot(datos_sodio, layout_sodio);\n",
    "$$html$$ = myPlot_sodio.render();"
   ]
  },
  {
   "cell_type": "code",
   "execution_count": 130,
   "metadata": {
    "collapsed": false,
    "jupyter": {
     "outputs_hidden": false,
     "source_hidden": false
    },
    "nteract": {
     "transient": {
      "deleting": false
     }
    }
   },
   "outputs": [
    {
     "data": {
      "text/html": [
       "<div class='plotly-plot'><div id='notebook-plot-1606588226988'></div><script>function plot(){Plotly.plot('notebook-plot-1606588226988',[{\"x\":[2498270483333333,1998616386666666.5,1498962289999999.8,1199169831999999.8],\"y\":[-5.98,-3.92,-1.84,-0.6],\"name\":\"Datos experimentales\"},{\"x\":[2498270483333333,1998616386666666.5,1498962289999999.8,1199169831999999.8],\"y\":[-5.983571428666665,-3.913163265333332,-1.842755102,-0.600510203999999],\"name\":\"Datos calculados\"}],{\"title\":\"Datos experimentales vs Datos calculados - Zinc\",\"xaxis\":{\"title\":\"Frecuencia (Hz)\",\"titlefont\":{\"family\":\"Courier New, monospace\",\"size\":18,\"color\":\"#7f7f7f\"}},\"yaxis\":{\"title\":\"Potencial de frenado (V)\",\"titlefont\":{\"family\":\"Courier New, monospace\",\"size\":18,\"color\":\"#7f7f7f\"}}});}if(window.Plotly){plot();}else if(!window.require){var head = document.head || document.getElementsByTagName('head')[0];var s = document.createElement('script');s.src = 'https://cdn.plot.ly/plotly-latest.min.js';s.type = 'text/javascript';s.async = false;s.onreadystatechange = s.onload = plot;head.appendChild(s);}else{require(['/notebooks/node_modules/plotly-notebook-js/build/plotly.min.js'], function(Plotly){window.Plotly = Plotly;plot();});}</script></div>"
      ]
     },
     "execution_count": 130,
     "metadata": {},
     "output_type": "execute_result"
    }
   ],
   "source": [
    "/*************************************************************************\n",
    "*  Dibujar gráfica: datos experimentales vs datos calculados - zinc\n",
    "**************************************************************************/\n",
    "datos_zinc = [\n",
    "  { x: frecuencia_zinc, y: voltajes_medidos_zinc, name: 'Datos experimentales' }, \n",
    "  \n",
    "  { x: frecuencia_zinc, y: voltajes_calculados_zinc, name: 'Datos calculados' }\n",
    "];\n",
    "var layout_zinc = {\n",
    "  title: 'Datos experimentales vs Datos calculados - Zinc',\n",
    "  xaxis: { title: 'Frecuencia (Hz)', titlefont: { family: 'Courier New, monospace', size: 18, color: '#7f7f7f' } },\n",
    "  yaxis: { title: 'Potencial de frenado (V)', titlefont: { family: 'Courier New, monospace', size: 18, color: '#7f7f7f' } }\n",
    "};\n",
    "//Plotly(datos_zinc, layout_zinc);\n",
    "var myPlot_zinc = Plot.createPlot(datos_zinc, layout_zinc);\n",
    "$$html$$ = myPlot_zinc.render();"
   ]
  },
  {
   "cell_type": "code",
   "execution_count": 131,
   "metadata": {
    "collapsed": false,
    "jupyter": {
     "outputs_hidden": false,
     "source_hidden": false
    },
    "nteract": {
     "transient": {
      "deleting": false
     }
    }
   },
   "outputs": [
    {
     "data": {
      "text/html": [
       "<div class='plotly-plot'><div id='notebook-plot-1606588226991'></div><script>function plot(){Plotly.plot('notebook-plot-1606588226991',[{\"x\":[1498962289999999.8,1199169831999999.8,999308193333333.2,856549879999999.9],\"y\":[-3.26,-2.01,-1.16,-0.55],\"name\":\"Datos experimentales\"},{\"x\":[1498962289999999.8,1199169831999999.8,999308193333333.2,856549879999999.9],\"y\":[-3.265312294595238,-2.0008941485952376,-1.1579487179285715,-0.5558448388809523],\"name\":\"Datos calculados\"}],{\"title\":\"Datos experimentales vs Datos calculados - Calcio\",\"xaxis\":{\"title\":\"Frecuencia (Hz)\",\"titlefont\":{\"family\":\"Courier New, monospace\",\"size\":18,\"color\":\"#7f7f7f\"}},\"yaxis\":{\"title\":\"Potencial de frenado (V)\",\"titlefont\":{\"family\":\"Courier New, monospace\",\"size\":18,\"color\":\"#7f7f7f\"}}});}if(window.Plotly){plot();}else if(!window.require){var head = document.head || document.getElementsByTagName('head')[0];var s = document.createElement('script');s.src = 'https://cdn.plot.ly/plotly-latest.min.js';s.type = 'text/javascript';s.async = false;s.onreadystatechange = s.onload = plot;head.appendChild(s);}else{require(['/notebooks/node_modules/plotly-notebook-js/build/plotly.min.js'], function(Plotly){window.Plotly = Plotly;plot();});}</script></div>"
      ]
     },
     "execution_count": 131,
     "metadata": {},
     "output_type": "execute_result"
    }
   ],
   "source": [
    "/*************************************************************************\n",
    "*  Dibujar gráfica: datos experimentales vs datos calculados - calcio\n",
    "**************************************************************************/\n",
    "datos_calcio = [\n",
    "  { x: frecuencia_calcio, y: voltajes_medidos_calcio, name: 'Datos experimentales' }, \n",
    "  \n",
    "  { x: frecuencia_calcio, y: voltajes_calculados_calcio, name: 'Datos calculados' }\n",
    "];\n",
    "var layout_calcio = {\n",
    "  title: 'Datos experimentales vs Datos calculados - Calcio',\n",
    "  xaxis: { title: 'Frecuencia (Hz)', titlefont: { family: 'Courier New, monospace', size: 18, color: '#7f7f7f' } },\n",
    "  yaxis: { title: 'Potencial de frenado (V)', titlefont: { family: 'Courier New, monospace', size: 18, color: '#7f7f7f' } }\n",
    "};\n",
    "//Plotly(datos_calcio, layout_calcio);\n",
    "var myPlot_calcio = Plot.createPlot(datos_calcio, layout_calcio);\n",
    "$$html$$ = myPlot_calcio.render();"
   ]
  },
  {
   "cell_type": "code",
   "execution_count": 132,
   "metadata": {
    "collapsed": false,
    "jupyter": {
     "outputs_hidden": false,
     "source_hidden": false
    },
    "nteract": {
     "transient": {
      "deleting": false
     }
    }
   },
   "outputs": [
    {
     "data": {
      "text/html": [
       "<div class='plotly-plot'><div id='notebook-plot-1606588226997'></div><script>function plot(){Plotly.plot('notebook-plot-1606588226997',[{\"x\":[2997924579999999.5,1998616386666666.5,1498962289999999.8,1249135241666666.5],\"y\":[-7.64,-3.52,-1.41,-0.23],\"name\":\"Datos experimentales\"},{\"x\":[2997924579999999.5,1998616386666666.5,1498962289999999.8,1249135241666666.5],\"y\":[-7.671739131666668,-3.4630434783333337,-1.3586956516666682,-0.30652173833333407],\"name\":\"Datos calculados\"}],{\"title\":\"Datos experimentales vs Datos calculados - Cobre\",\"xaxis\":{\"title\":\"Frecuencia (Hz)\",\"titlefont\":{\"family\":\"Courier New, monospace\",\"size\":18,\"color\":\"#7f7f7f\"}},\"yaxis\":{\"title\":\"Potencial de frenado (V)\",\"titlefont\":{\"family\":\"Courier New, monospace\",\"size\":18,\"color\":\"#7f7f7f\"}}});}if(window.Plotly){plot();}else if(!window.require){var head = document.head || document.getElementsByTagName('head')[0];var s = document.createElement('script');s.src = 'https://cdn.plot.ly/plotly-latest.min.js';s.type = 'text/javascript';s.async = false;s.onreadystatechange = s.onload = plot;head.appendChild(s);}else{require(['/notebooks/node_modules/plotly-notebook-js/build/plotly.min.js'], function(Plotly){window.Plotly = Plotly;plot();});}</script></div>"
      ]
     },
     "execution_count": 132,
     "metadata": {},
     "output_type": "execute_result"
    }
   ],
   "source": [
    "/*************************************************************************\n",
    "*  Dibujar gráfica: datos experimentales vs datos calculados - cobre\n",
    "**************************************************************************/\n",
    "datos_cobre = [\n",
    "  { x: frecuencia_cobre, y: voltajes_medidos_cobre, name: 'Datos experimentales' }, \n",
    "  \n",
    "  { x: frecuencia_cobre, y: voltajes_calculados_cobre, name: 'Datos calculados' }\n",
    "];\n",
    "var layout_cobre = {\n",
    "  title: 'Datos experimentales vs Datos calculados - Cobre',\n",
    "  xaxis: { title: 'Frecuencia (Hz)', titlefont: { family: 'Courier New, monospace', size: 18, color: '#7f7f7f' } },\n",
    "  yaxis: { title: 'Potencial de frenado (V)', titlefont: { family: 'Courier New, monospace', size: 18, color: '#7f7f7f' } }\n",
    "};\n",
    "//Plotly(datos_cobre, layout_cobre);\n",
    "var myPlot_cobre = Plot.createPlot(datos_cobre, layout_cobre);\n",
    "$$html$$ = myPlot_cobre.render();"
   ]
  },
  {
   "cell_type": "markdown",
   "metadata": {
    "nteract": {
     "transient": {
      "deleting": false
     }
    }
   },
   "source": [
    "## Cuarto ejercicio\n",
    "\n",
    "Continuamos el experimento, modificando ahora el control de intensidad de la luz para una longitud de onda de 100 nm y un metal cualquiera, como por ejemplo el sodio.\n"
   ]
  },
  {
   "cell_type": "markdown",
   "metadata": {
    "nteract": {
     "transient": {
      "deleting": false
     }
    }
   },
   "source": [
    "![](https://i.imgur.com/Zi4lEOf.gif)\n",
    "\n",
    "_**Experimentación en applet PhET con la intensidad de la luz para una $\\lambda = 100\\, \\mathrm{nm}$**_\n",
    "\n",
    "[source - imgur GIF](https://i.imgur.com/Zi4lEOf.gif)"
   ]
  },
  {
   "cell_type": "markdown",
   "metadata": {
    "nteract": {
     "transient": {
      "deleting": false
     }
    }
   },
   "source": [
    "*¿Qué le ocurre a la corriente que se mide con el amperímetro? ¿Qué relación se observa?*\n",
    "\n",
    "En un primer momento, establecemos la intensidad de la luz al máximo y observamos como la corriente incrementa proporcionalmente respecto al voltaje (cuando este parte de valores negativos), pero al llegar el voltaje a los -6.10 $V$ aproximadamente, se estabiliza el valor de la corriente, tomando un valor de 0.882 $A$, que se mantendrá constante independientente de la diferencia de potencial tal y como se puede observar en la imagen anterior.   \n",
    "Posteriormente, mantendremos el voltaje a 0 $V$ y probaremos a cambiar la intensidad de la luz para comprobar que sucede con el amperaje.\n"
   ]
  },
  {
   "cell_type": "markdown",
   "metadata": {
    "nteract": {
     "transient": {
      "deleting": false
     }
    }
   },
   "source": [
    "*Nueva toma de medidas con el applet del efecto Fotoeléctrico.*\n",
    "\n",
    "Se procede a la toma de nuevas muestras experimentales utilizando el sodio como metal para las pruebas, obteniendo parejas de valores de la intensidad de la luz respecto amperaje:\n",
    "\n",
    "| Intensidad ($\\%$)  | Corriente ($A$)  |   \n",
    "|---|---|\n",
    "|   0  | 0      |   \n",
    "|  20  | 0.176  |   \n",
    "|  40  | 0.353  |   \n",
    "|  60  | 0.529  |   \n",
    "|  80  | 0.706  |   \n",
    "| 100  | 0.882  |   \n",
    "\n",
    "Al igual que en el ejercicio anterior, introducimos los valores resultantes en un array de Javascript, que nos permitirá representarlos en un gráfico utilizando nuevamente la biblioteca \"Plotly\".\n"
   ]
  },
  {
   "cell_type": "code",
   "execution_count": 133,
   "metadata": {
    "collapsed": false,
    "jupyter": {
     "outputs_hidden": false,
     "source_hidden": false
    },
    "nteract": {
     "transient": {
      "deleting": false
     }
    }
   },
   "outputs": [],
   "source": [
    "/*******************************************\n",
    "*  Amperajes medidos - sodio \n",
    "********************************************/\n",
    "var intensidad_de_luz_sodio= [0, 20, 40, 60, 80, 100]; // en porcentaje\n",
    "var amperajes_medidos_sodio = [0, 0.176, 0.353, 0.529, 0.706, 0.882];  // en amperios"
   ]
  },
  {
   "cell_type": "markdown",
   "metadata": {
    "nteract": {
     "transient": {
      "deleting": false
     }
    }
   },
   "source": [
    "\n",
    "Hacemos ahora un gráfica, para representar los datos experimentales obtenidos: los del amperaje medido respecto a la intensidad de luz establecida.\n"
   ]
  },
  {
   "cell_type": "code",
   "execution_count": 134,
   "metadata": {
    "collapsed": false,
    "jupyter": {
     "outputs_hidden": false,
     "source_hidden": false
    },
    "nteract": {
     "transient": {
      "deleting": false
     }
    }
   },
   "outputs": [
    {
     "data": {
      "text/html": [
       "<div class='plotly-plot'><div id='notebook-plot-1606588227001'></div><script>function plot(){Plotly.plot('notebook-plot-1606588227001',[{\"x\":[0,20,40,60,80,100],\"y\":[0,0.176,0.353,0.529,0.706,0.882],\"name\":\"Corriente vs Intensidad de la luz - Sodio\"}],{\"title\":\"Corriente vs Intensidad de la luz - Sodio\",\"xaxis\":{\"title\":\"Intensidad de la luz (%)\",\"titlefont\":{\"family\":\"Courier New, monospace\",\"size\":18,\"color\":\"#7f7f7f\"}},\"yaxis\":{\"title\":\"Corriente (A)\",\"titlefont\":{\"family\":\"Courier New, monospace\",\"size\":18,\"color\":\"#7f7f7f\"}}});}if(window.Plotly){plot();}else if(!window.require){var head = document.head || document.getElementsByTagName('head')[0];var s = document.createElement('script');s.src = 'https://cdn.plot.ly/plotly-latest.min.js';s.type = 'text/javascript';s.async = false;s.onreadystatechange = s.onload = plot;head.appendChild(s);}else{require(['/notebooks/node_modules/plotly-notebook-js/build/plotly.min.js'], function(Plotly){window.Plotly = Plotly;plot();});}</script></div>"
      ]
     },
     "execution_count": 134,
     "metadata": {},
     "output_type": "execute_result"
    }
   ],
   "source": [
    "/*********************************************************************************\n",
    "*  Dibujar gráfica datos experimentales: Corriente vs Intensidad de la luz - Sodio\n",
    "**********************************************************************************/\n",
    "datos_sodio = [\n",
    "  { x: intensidad_de_luz_sodio, y: amperajes_medidos_sodio, name: 'Corriente vs Intensidad de la luz - Sodio' },\n",
    "];\n",
    "var layout_sodio = {\n",
    "  title: 'Corriente vs Intensidad de la luz - Sodio',\n",
    "  xaxis: { title: 'Intensidad de la luz (%)', titlefont: { family: 'Courier New, monospace', size: 18, color: '#7f7f7f' } },\n",
    "  yaxis: { title: 'Corriente (A)', titlefont: { family: 'Courier New, monospace', size: 18, color: '#7f7f7f' } },\n",
    "};\n",
    "//Plotly(datos_sodio, layout_sodio);\n",
    "var myPlot_sodio = Plot.createPlot(datos_sodio, layout_sodio);\n",
    "$$html$$ = myPlot_sodio.render();"
   ]
  },
  {
   "cell_type": "markdown",
   "metadata": {
    "nteract": {
     "transient": {
      "deleting": false
     }
    }
   },
   "source": [
    "# Cuestiones intermedias\n",
    "\n",
    "## Comprobación de que $\\mathrm eV$ tiene unidades de energía, siendo $e$ la carga del electrón.\n",
    "\n",
    "El $\\mathrm {eV}$ tiene dos unidades diferentes.\n",
    "\n",
    "- $e$ cuya unidad de carga es el Culombio $\\mathrm {(C)}$\n",
    "  \n",
    "- $V$ que se define como la diferencia de potencial existente entre dos puntos tales que hay que realizar un trabajo de 1 Julio $\\mathrm {(J)}$, para trasladar del uno al otro la carga de 1 Culombio $\\mathrm {(C)}$. Es decir, un Voltio $\\mathrm {(V)}$ es igual a $\\frac{\\mathrm J}{\\mathrm C}$.\n",
    "  \n",
    "\n",
    "Tenemos por tanto que $\\mathrm {eV} = \\mathrm C \\cdot \\frac{\\mathrm J}{\\mathrm C}$.\n",
    "\n",
    "Al despejar encontramos que $\\mathrm {eV} = \\mathrm J$, siendo el Julio $\\mathrm {(J)}$ la unidad básica de medida de la energía en el S.I.\n",
    "\n"
   ]
  },
  {
   "cell_type": "markdown",
   "metadata": {
    "nteract": {
     "transient": {
      "deleting": false
     }
    }
   },
   "source": [
    "## Demuestra que $ \\frac{x - x_1}{x_2 - x_1} = \\frac{y - y_1}{y_2 - y_1} $ es equivalente a $ y=mx + b $\n",
    "\n",
    "Dados dos puntos de la recta $ y=mx + b $, digamos $P(x_p, y_p)$ y $Q(x_q, y_q)$, se tiene que,\n",
    "\n",
    "$$ \n",
    "\\left\\{\\begin{matrix}\n",
    "    y_p=mx_p+b\\\\ \n",
    "    y_q=mx_q+b\n",
    "\\end{matrix}\\right. \n",
    "$$\n",
    "\n",
    "$$b=y_p-mx_p $$\n",
    "\n",
    "$$y_q=mx_q+(y_p-mx_p) \\Rightarrow m(x_q-x_p)=y_q-y_p $$\n",
    "\n",
    "$$m= \\frac{y_q-y_p}{x_q-x_p} $$\n",
    "\n",
    "$$b=y_p-mx_p=y_p-\\left(\\frac{y_q-y_p}{x_q-x_p}\\right)x_p=\\frac{y_p\\left(x_q-x_p\\right)}{x_q-x_p}\\ -\\frac{x_p\\left(y_q-y_p\\right)}{x_q-x_p} $$\n",
    "\n",
    "$$b=\\frac{\\left(x_qy_p-x_py_p\\right)-\\left(x_py_q-x_py_p\\right)}{x_q-x_p}\\ =\\frac{x_qy_p-x_py_p-x_py_q+x_py_p}{x_q-x_p}$$\n",
    "\n",
    "$$b=\\frac{x_qy_p-x_py_q}{x_q-x_p}\\ $$\n",
    "\n",
    "por tanto, para la recta $ y=mx + b $ se tiene:\n",
    "\n",
    "**$$y=\\left(\\frac{y_q-y_p}{x_q-x_p}\\right)x\\ +\\ \\left(\\frac{x_qy_p-x_py_q}{x_q-x_p}\\right)$$**\n",
    "\n",
    "Partiendo de la premisa inicial,\n",
    "\n",
    "$$\\frac{x - x_1}{x_2 - x_1} = \\frac{y - y_1}{y_2 - y_1}$$\n",
    "\n",
    "$$y-y_1=\\frac{\\left(x-x_1\\right)\\left(y_2-y_1\\right)}{x_2-x_1}$$\n",
    "\n",
    "$$y=\\frac{\\left(x-x_1\\right)\\left(y_2-y_1\\right)}{x_2-x_1}+y_1=\\frac{\\left(x-x_1\\right)\\left(y_2-y_1\\right)+y_1\\left(x_2-x_1\\right)}{x_2-x_1}$$\n",
    "\n",
    "$$y=\\frac{xy_2-{xy}_1-x_1y_2+x_1y_1+x_2y_1-x_1y_1}{x_2-x_1}=\\frac{xy_2-{xy}_1-x_1y_2+x_2y_1}{x_2-x_1}$$\n",
    "\n",
    "$$y=\\frac{xy_2-{xy}_1}{x_2-x_1}+\\frac{x_2y_1-x_1y_2}{x_2-x_1}=\\frac{y_2-y_1}{x_2-x_1}x+\\frac{x_2y_1-x_1y_2}{x_2-x_1}$$\n",
    "\n",
    "**$$y=\\left(\\frac{y_2-y_1}{x_2-x_1}\\right)x+\\left(\\frac{x_2y_1-x_1y_2}{x_2-x_1}\\right) \\text{, siendo } P\\left(x_1,\\ y_1\\right) \\text{ y } Q\\left(x_2,\\ y_2\\right) $$**"
   ]
  },
  {
   "cell_type": "markdown",
   "metadata": {},
   "source": [
    "## Preguntas\n",
    "\n",
    "*¿Qué son los CDN?*\n",
    "\n",
    "Una red de entrega de contenido, o red de distribución de contenido (CDN), es una red de servidores proxy y sus centros de datos, distribuidos geográficamente. El objetivo es proporcionar alta disponibilidad y rendimiento mediante la distribución espacial del servicio en relación con los usuarios finales. Abarca diferentes tipos de servicios de entrega de contenido: transmisión de video, descargas de software, aceleración de contenido web y móvil, etc.\n",
    "\n",
    "[ref. - Content delivery network - Wikipedia](https://en.wikipedia.org/wiki/Content_delivery_network)\n",
    "\n",
    "![(Izquierda) Distribución de servidor único / (Derecha) Esquema de distribución CDN](https://upload.wikimedia.org/wikipedia/commons/f/f9/NCDN_-_CDN.png)\n",
    "\n",
    "_**(Izquierda) Distribución de servidor único / (Derecha) Esquema de distribución CDN**_\n",
    "\n",
    "[source - Content delivery network - Wikipedia](https://en.wikipedia.org/wiki/Content_delivery_network)\n",
    "\n",
    "\n",
    "*¿Para qué sirve UNPKG y porqué es uno de los servicios más usados de Internet (junto con jspm, ESM, cdnjs, jsdelivr, …)?*\n",
    "\n",
    "UNPKG es una CDN open source para npm. Permite cargar rápida y fácilmente cualquier archivo de cualquier paquete, usando una URL remota como la del ejemplo:\n",
    "\n",
    "_**<p style=\"text-align: center;\"> unpkg.com/:package@:version/:file </p>**_\n",
    "\n",
    "[ref. - UNPKG](https://unpkg.com/)\n"
   ]
  },
  {
   "cell_type": "markdown",
   "metadata": {
    "nteract": {
     "transient": {
      "deleting": false
     }
    }
   },
   "source": [
    "## Historia entorno al efecto fotoeléctrico\n",
    "\n",
    "Fue descubierto en 1887 por el físico alemán Heinrich Rudolf Hertz, en relación con su trabajo sobre ondas de radio y a su vez aclarado en 1902 por otro físico alemán, Philipp Lenard, que demostró que las partículas cargadas eléctricamente son liberadas de una superficie metálica cuando se ilumina y que estas partículas son idénticas a los electrones, que habían sido descubiertos por el físico británico Joseph John Thomson en 1897.\n",
    "\n",
    "Esta interacción entre la luz y la materia no puede ser explicada por la física clásica, lo que llevó a Albert Einstein a formular en 1905 una nueva teoría corpuscular de la luz, apoyándose en la constante universal que el físico alemán Max Planck derivó en 1900 para explicar la distribución de longitud de onda de la radiación del cuerpo negro. Aunque el modelo de Einstein describió la emisión de electrones de una placa iluminada, su hipótesis de fotones era lo suficientemente radical como para que no fuera universalmente aceptada hasta que recibió una verificación experimental adicional. La corroboración posterior ocurrió en 1916 cuando las mediciones extremadamente precisas del físico estadounidense Robert Millikan verificaron la ecuación de Einstein y mostraron con alta precisión que el valor de la constante h de Einstein era el mismo que el de la constante de Planck. Einstein fue finalmente galardonado con el Premio Nobel de Física en 1921 por explicar el efecto fotoeléctrico.\n",
    "\n",
    "> _\"If Planck had drawn this conclusion, he would probably not have made his great discovery\" (Einstein, 1949)_\n",
    "\n",
    "<a href=\"https://medium.com/cantors-paradise/einsteins-1905-paper-on-the-photoelectric-effect-d258739ef8d1\">ref. - Jørgen Veisdal, Norwegian University of Science and Technology</a>, via Cantor's Paradise\n",
    "\n",
    "Un año después, en 1922, el físico estadounidense Arthur Compton midió el cambio en la longitud de onda de los rayos X después de que interactuaran con los electrones libres, y demostró que el cambio podía calcularse tratando los rayos X como hecho de fotones. Compton recibió el Premio Nobel de Física 1927 por esta obra.\n",
    "\n",
    "En 1931 el matemático británico Ralph Howard Fowler amplió la comprensión de la emisión fotoeléctrica estableciendo la relación entre la corriente fotoeléctrica y la temperatura en los metales. Posteriormente otros estudios demostraron que la radiación electromagnética también podía emitir electrones en los aislantes, que no conducen la electricidad, y en semiconductores, una variedad de aislantes que conducen la electricidad sólo en determinadas circunstancias.\n",
    "\n",
    "<a href=\"https://www.britannica.com/science/photoelectric-effect/Applications\">ref. - Erik Gregersen, Senior Editor</a>, via Encyclopaedia Britannica\n",
    "\n",
    "Ahora y para terminar, la misma historia, pero en un formato un poco más entretenido...\n",
    "\n",
    "<html>\n",
    "    <body>\n",
    "        <iframe width=\"560\" height=\"315\" src=\"https://www.youtube.com/embed/0b0axfyJ4oo\" frameborder=\"0\" allow=\"accelerometer; autoplay; clipboard-write; encrypted-media; gyroscope; picture-in-picture\" allowfullscreen></iframe>\n",
    "    </body>\n",
    "</html>\n",
    "\n",
    "<a href=\"https://www.youtube.com/channel/UCNBpTILjeiCkVg9q0bRmhSA\">ref. - OpenMind</a>, via YouTube"
   ]
  },
  {
   "cell_type": "markdown",
   "metadata": {},
   "source": [
    "## Tabla de valoración individual\n",
    "\n",
    "| Preguntas | Sí | No | A veces |\n",
    "|---|---|---|---|\n",
    "| Todos los miembros se han integrado al trabajo del grupo | X |   |   |\n",
    "| Todos los miembros participan activamente | X |   |   |\n",
    "| Todos los miembros respetan otras ideas aportadas | X |   |   |\n",
    "| Todos los miembros participan en la elaboración del informe | X |   |   |\n",
    "| Me he preocupado por realizar un trabajo cooperativo con mis compañeros | X |   |   |\n",
    "| Señala si consideras que algún aspecto del trabajo en grupo no ha sido adecuado |   | X |   |"
   ]
  }
 ],
 "metadata": {
  "kernel_info": {
   "name": "node_nteract"
  },
  "kernelspec": {
   "display_name": "Javascript (Node.js)",
   "language": "javascript",
   "name": "javascript"
  },
  "language_info": {
   "file_extension": ".js",
   "mimetype": "application/javascript",
   "name": "javascript",
   "version": "10.13.0"
  },
  "nteract": {
   "version": "0.26.0"
  }
 },
 "nbformat": 4,
 "nbformat_minor": 4
}
