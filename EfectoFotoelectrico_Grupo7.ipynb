{
  "cells": [
    {
      "cell_type": "markdown",
      "source": [
        "<img align=\"center\" width=\"900\" height=\"500\" src=\"https://image.slidesharecdn.com/efectofotoelectricoyefectocomptongendersonorozco-161211221108/95/efecto-foto-electrico-y-efecto-compton-genderson-orozco-2-638.jpg?cb=1481494374\" alt=\"Efecto fotoeléctrico\"/>"
      ],
      "metadata": {
        "nteract": {
          "transient": {
            "deleting": false
          }
        }
      }
    },
    {
      "cell_type": "markdown",
      "source": [
        "*El objetivo de la práctica es la determinación de la energía de arranque de los electrones de un metal ($\\phi$) y el valor de la constante de Planck ($\\hslash$). Para ello, disponemos de una lámpara virtual que emite luz de distintas frecuencias y placas (también virtuales) de distintos metales (sodio, cinc, calcio, etc.), que van a ser iluminadas por la mencionada fuente de luz.*"
      ],
      "metadata": {
        "nteract": {
          "transient": {
            "deleting": false
          }
        }
      }
    },
    {
      "cell_type": "markdown",
      "source": [
        "# Ejercicios\n",
        "\n",
        "## Primer ejercicio\n",
        "\n",
        "\n",
        "*Realización de una tabla rápida con el nombre de cada color del arcoíris con sus respectivas longitudes de onda (en metros) y su frecuencia (en Hercios).*\n",
        "\n",
        "$$  $$\n",
        "\n",
        "|Color|Longitud de onda en $10^{-9}\\ (m)$| Frecuencia en $10^{12}\\ (Hz)$|\n",
        "|---|---|---|\n",
        "|Rojo|  620 - 750 |  400 - 484|\n",
        "|Ámbar|  590 - 620 |  484 - 508 |\n",
        "|Amarillo|  570 - 590|  508 - 526 |\n",
        "|Verde|  495 - 570 |  526 - 606 |\n",
        "|Cian|  475 - 495 |  606 - 630 |\n",
        "|Azul|  450 - 475 |  630 - 668 |\n",
        "|Violeta|  380 - 450 |  668 - 789 |\n",
        "\n",
        "$$  $$\n",
        "\n",
        "*¿Cuál es la relación matemática entre longitud de onda y frecuencia de una onda electromagnética?*\n",
        "\n",
        "Sabiendo que la longitud de onda es la distancia que recorre una onda durante un periodo o ciclo completo, que en el sistema métrico internacional se expresa en $ \\mathrm{(m)} $, y que la frecuencia es la relación entre el tiempo y el periodo, es decir, la cantidad de ciclos por unidad de tiempo, que en el sistema métrico internacional se expresa en $ \\mathrm{(Hz)} $, que es la unidad que representa el número de ciclos contenidos en un segundo.\n",
        "\n",
        "<a title=\"Dicklyon (Richard F. Lyon), CC BY-SA 3.0 &lt;https://creativecommons.org/licenses/by-sa/3.0&gt;, via Wikimedia Commons\" href=\"https://commons.wikimedia.org/wiki/File:Sine_wavelength.svg\"><img width=\"400\" alt=\"Sine wavelength\" src=\"https://upload.wikimedia.org/wikipedia/commons/thumb/6/62/Sine_wavelength.svg/512px-Sine_wavelength.svg.png\"></a>\n",
        "- <a href=\"https://commons.wikimedia.org/wiki/File:Sine_wavelength.svg\">Dicklyon (Richard F. Lyon)</a>, via Wikimedia Commons\n",
        "\n",
        "\n",
        "\n",
        "Por tanto, no es difícil darse cuenta de que al aumentar la frecuencia $(f)$, se reduce la longitud de onda $(\\lambda)$ de manera inversamente proporcional. De modo que, para una velocidad de propagación constante $(c)$, la distancia recorrida por una onda, en un periodo es:\n",
        "\n",
        "$$ \\lambda= \\frac{c}{f} $$\n",
        "y a su vez:\n",
        "$$ f=\\frac{c}{\\lambda} $$\n"
      ],
      "metadata": {
        "nteract": {
          "transient": {
            "deleting": false
          }
        }
      }
    },
    {
      "cell_type": "markdown",
      "source": [
        "*Toma de medidas con el applet del efecto Fotoeléctrico*\n",
        "$$  $$\n",
        "Se procede a la toma de muestras experimentales con 4 metales, obteniendo parejas de valores de longitud de onda (en nanometros) y voltaje (en voltios) . Seguidamente se muestra en una tabla los resultados obtenidos.\n",
        "$$  $$\n",
        "\n",
        "|Na  |  Zn |  Ca |  Cu |   \n",
        "|---|---|---|---|\n",
        "| 400 / -0.75   | 250 / -0.60  | 350 / -0.55  | 240 / -0.23  |   \n",
        "|  350 / -1.20 |   200 / -1.84|  300/ -1.16 | 200 / -1.41  |   \n",
        "| 300 / -1.78  |   150 /  -3.92|  250 / -2.01 | 150 / -3.52   |   \n",
        "|  250 / -2.62 |   120 / -5.98|  200 / -3.26 |  100 / -7.64 | \n",
        "\n",
        "$$  $$\n",
        "Seguidamente introducimos los valores resultantes en sendos arrays de Javascript. El array en el que guardaremos las logitudes de onda hará la conversión de nanometros a la medida del S.I. que son los metros.\n",
        "$$  $$"
      ],
      "metadata": {
        "nteract": {
          "transient": {
            "deleting": false
          }
        }
      }
    },
    {
      "cell_type": "code",
      "source": [
        "/*******************************************\n",
        "*  Voltajes medidos - sodio \n",
        "********************************************/\n",
        "var longitudes_de_onda_medidas_sodio= [250, 300, 350, 400].map(x => x*1e-9);  // para pasar a metros\n",
        "var voltajes_medidos_sodio = [-2.62, -1.78, -1.20, -0.75];  // en voltios (voltaje de frenado)"
      ],
      "outputs": [],
      "execution_count": 1,
      "metadata": {
        "execution": {
          "iopub.execute_input": "2020-11-28T09:29:15.701Z",
          "iopub.status.busy": "2020-11-28T09:29:15.694Z",
          "iopub.status.idle": "2020-11-28T09:29:15.710Z",
          "shell.execute_reply": "2020-11-28T09:29:15.353Z"
        },
        "jupyter": {
          "outputs_hidden": false,
          "source_hidden": false
        },
        "nteract": {
          "transient": {
            "deleting": false
          }
        }
      }
    },
    {
      "cell_type": "code",
      "source": [
        "/*******************************************\n",
        "*  Voltajes medidos - zinc\n",
        "********************************************/\n",
        "var longitudes_de_onda_medidas_zinc= [120, 150, 200, 250].map(x => x*1e-9);  // para pasar a metros\n",
        "var voltajes_medidos_zinc = [-5.98, -3.92, -1.84, -0.6];  // en voltios (voltaje de frenado)"
      ],
      "outputs": [],
      "execution_count": 2,
      "metadata": {
        "execution": {
          "iopub.execute_input": "2020-11-28T09:29:15.727Z",
          "iopub.status.busy": "2020-11-28T09:29:15.720Z",
          "iopub.status.idle": "2020-11-28T09:29:15.734Z",
          "shell.execute_reply": "2020-11-28T09:29:15.365Z"
        },
        "jupyter": {
          "outputs_hidden": false,
          "source_hidden": false
        },
        "nteract": {
          "transient": {
            "deleting": false
          }
        }
      }
    },
    {
      "cell_type": "code",
      "source": [
        "/*******************************************\n",
        "*  Voltajes medidos - calcio\n",
        "********************************************/\n",
        "var longitudes_de_onda_medidas_calcio= [200, 250, 300, 350].map(x => x*1e-9);  // para pasar a metros\n",
        "var voltajes_medidos_calcio = [-3.26, -2.01, -1.16, -0.55];  // en voltios (voltaje de frenado)"
      ],
      "outputs": [],
      "execution_count": 3,
      "metadata": {
        "execution": {
          "iopub.execute_input": "2020-11-28T09:29:15.753Z",
          "iopub.status.busy": "2020-11-28T09:29:15.746Z",
          "iopub.status.idle": "2020-11-28T09:29:15.761Z",
          "shell.execute_reply": "2020-11-28T09:29:15.375Z"
        },
        "jupyter": {
          "outputs_hidden": false,
          "source_hidden": false
        },
        "nteract": {
          "transient": {
            "deleting": false
          }
        }
      }
    },
    {
      "cell_type": "code",
      "source": [
        "/*******************************************\n",
        "*  Voltajes medidos - cobre\n",
        "********************************************/\n",
        "var longitudes_de_onda_medidas_cobre= [100, 150, 200, 240].map(x => x*1e-9);  // para pasar a metros\n",
        "var voltajes_medidos_cobre = [-7.64, -3.52, -1.41, -0.23];  // en voltios (voltaje de frenado)"
      ],
      "outputs": [],
      "execution_count": 4,
      "metadata": {
        "execution": {
          "iopub.execute_input": "2020-11-28T09:29:15.779Z",
          "iopub.status.busy": "2020-11-28T09:29:15.772Z",
          "iopub.status.idle": "2020-11-28T09:29:15.787Z",
          "shell.execute_reply": "2020-11-28T09:29:15.384Z"
        },
        "jupyter": {
          "outputs_hidden": false,
          "source_hidden": false
        },
        "nteract": {
          "transient": {
            "deleting": false
          }
        }
      }
    },
    {
      "cell_type": "markdown",
      "source": [
        "*Ajuste a una recta con regression.js*\n",
        "$$  $$\n",
        "Para poder utilizar los datos obtenidos mediante las mediciones experimentales, debemos realizar ajustes y conversiones previas: vamos a convertir los arrays en tuplas y a calcular la inversa de la longitud de onda $\\lambda^{-1}$.\n",
        "Para ello vamos a utilizar una implementación Javascript con el siguiente código:\n",
        "$$  $$"
      ],
      "metadata": {
        "nteract": {
          "transient": {
            "deleting": false
          }
        }
      }
    },
    {
      "cell_type": "code",
      "source": [
        "/*************************************************************************\n",
        "*  Cambio unidad de longitud de onda a frecuencia para datos - sodio\n",
        "**************************************************************************/\n",
        "inversa_de_longitudes_de_onda_sodio = longitudes_de_onda_medidas_sodio.map(lambda => 1/lambda);  \n",
        "var datos_a_ajustar_sodio = voltajes_medidos_sodio.reduce((tuplas_longitud_onda_voltaje, b, i) => {\n",
        "    tuplas_longitud_onda_voltaje.push([inversa_de_longitudes_de_onda_sodio[i], b]);\n",
        "  return tuplas_longitud_onda_voltaje;\n",
        "}, []);\n",
        "console.log(datos_a_ajustar_sodio); // Verás que son tuplas de valores 1/lambda y voltajes"
      ],
      "outputs": [
        {
          "output_type": "stream",
          "name": "stdout",
          "text": [
            "[ [ 3999999.9999999995, -2.62 ],\n",
            "  [ 3333333.333333333, -1.78 ],\n",
            "  [ 2857142.857142857, -1.2 ],\n",
            "  [ 2500000, -0.75 ] ]\n"
          ]
        }
      ],
      "execution_count": 5,
      "metadata": {
        "execution": {
          "iopub.execute_input": "2020-11-28T09:29:15.804Z",
          "iopub.status.busy": "2020-11-28T09:29:15.797Z",
          "iopub.status.idle": "2020-11-28T09:29:15.818Z",
          "shell.execute_reply": "2020-11-28T09:29:15.396Z"
        },
        "jupyter": {
          "outputs_hidden": false,
          "source_hidden": false
        },
        "nteract": {
          "transient": {
            "deleting": false
          }
        }
      }
    },
    {
      "cell_type": "code",
      "source": [
        "/*************************************************************************\n",
        "*  Cambio unidad de longitud de onda a frecuencia para datos - zinc\n",
        "**************************************************************************/\n",
        "inversa_de_longitudes_de_onda_zinc = longitudes_de_onda_medidas_zinc.map(lambda => 1/lambda );  \n",
        "var datos_a_ajustar_zinc = voltajes_medidos_zinc.reduce((tuplas_longitud_onda_voltaje, b, i) => {\n",
        "    tuplas_longitud_onda_voltaje.push([inversa_de_longitudes_de_onda_zinc[i], b]);\n",
        "  return tuplas_longitud_onda_voltaje;\n",
        "}, []);\n",
        "console.log(datos_a_ajustar_zinc); // Verás que son tuplas de valores 1/lambda y voltajes"
      ],
      "outputs": [
        {
          "output_type": "stream",
          "name": "stdout",
          "text": [
            "[ [ 8333333.333333332, -5.98 ],\n",
            "  [ 6666666.666666666, -3.92 ],\n",
            "  [ 5000000, -1.84 ],\n",
            "  [ 3999999.9999999995, -0.6 ] ]\n"
          ]
        }
      ],
      "execution_count": 6,
      "metadata": {
        "execution": {
          "iopub.execute_input": "2020-11-28T09:29:15.835Z",
          "iopub.status.busy": "2020-11-28T09:29:15.828Z",
          "iopub.status.idle": "2020-11-28T09:29:15.848Z",
          "shell.execute_reply": "2020-11-28T09:29:15.407Z"
        },
        "jupyter": {
          "outputs_hidden": false,
          "source_hidden": false
        },
        "nteract": {
          "transient": {
            "deleting": false
          }
        }
      }
    },
    {
      "cell_type": "code",
      "source": [
        "/*************************************************************************\n",
        "*  Cambio unidad de longitud de onda a frecuencia para datos - calcio\n",
        "**************************************************************************/\n",
        "inversa_de_longitudes_de_onda_calcio = longitudes_de_onda_medidas_calcio.map(lambda => 1/lambda );  \n",
        "var datos_a_ajustar_calcio = voltajes_medidos_calcio.reduce((tuplas_longitud_onda_voltaje, b, i) => {\n",
        "    tuplas_longitud_onda_voltaje.push([inversa_de_longitudes_de_onda_calcio[i], b]);\n",
        "  return tuplas_longitud_onda_voltaje;\n",
        "}, []);\n",
        "console.log(datos_a_ajustar_calcio); // Verás que son tuplas de valores 1/lambda y voltajes"
      ],
      "outputs": [
        {
          "output_type": "stream",
          "name": "stdout",
          "text": [
            "[ [ 5000000, -3.26 ],\n",
            "  [ 3999999.9999999995, -2.01 ],\n",
            "  [ 3333333.333333333, -1.16 ],\n",
            "  [ 2857142.857142857, -0.55 ] ]\n"
          ]
        }
      ],
      "execution_count": 7,
      "metadata": {
        "execution": {
          "iopub.execute_input": "2020-11-28T09:29:15.864Z",
          "iopub.status.busy": "2020-11-28T09:29:15.858Z",
          "iopub.status.idle": "2020-11-28T09:29:15.877Z",
          "shell.execute_reply": "2020-11-28T09:29:15.419Z"
        },
        "jupyter": {
          "outputs_hidden": false,
          "source_hidden": false
        },
        "nteract": {
          "transient": {
            "deleting": false
          }
        }
      }
    },
    {
      "cell_type": "code",
      "source": [
        "/*************************************************************************\n",
        "*  Cambio unidad de longitud de onda a frecuencia para datos - cobre\n",
        "**************************************************************************/\n",
        "inversa_de_longitudes_de_onda_cobre = longitudes_de_onda_medidas_cobre.map(lambda => 1/lambda );  \n",
        "var datos_a_ajustar_cobre = voltajes_medidos_cobre.reduce((tuplas_longitud_onda_voltaje, b, i) => {\n",
        "    tuplas_longitud_onda_voltaje.push([inversa_de_longitudes_de_onda_cobre[i], b]);\n",
        "  return tuplas_longitud_onda_voltaje;\n",
        "}, []);\n",
        "console.log(datos_a_ajustar_cobre); // Verás que son tuplas de valores 1/lambda y voltajes"
      ],
      "outputs": [
        {
          "output_type": "stream",
          "name": "stdout",
          "text": [
            "[ [ 10000000, -7.64 ],\n",
            "  [ 6666666.666666666, -3.52 ],\n",
            "  [ 5000000, -1.41 ],\n",
            "  [ 4166666.666666666, -0.23 ] ]\n"
          ]
        }
      ],
      "execution_count": 8,
      "metadata": {
        "execution": {
          "iopub.execute_input": "2020-11-28T09:29:15.894Z",
          "iopub.status.busy": "2020-11-28T09:29:15.887Z",
          "iopub.status.idle": "2020-11-28T09:29:15.907Z",
          "shell.execute_reply": "2020-11-28T09:29:15.431Z"
        },
        "jupyter": {
          "outputs_hidden": false,
          "source_hidden": false
        },
        "nteract": {
          "transient": {
            "deleting": false
          }
        }
      }
    },
    {
      "cell_type": "markdown",
      "source": [
        "$$  $$\n",
        "A continuación, ya podemos realizar el ajuste a la recta de regresión para poder obtener los valores $m$ y $b$, correspondientes con la pendiente y la ordenada de la recta. Para ello utilizamos el siguiente código Javascript:\n",
        "$$  $$"
      ],
      "metadata": {
        "nteract": {
          "transient": {
            "deleting": false
          }
        }
      }
    },
    {
      "cell_type": "code",
      "source": [
        "/*************************************************************************\n",
        "*  Calcular regresion de datos - sodio\n",
        "**************************************************************************/\n",
        "var regression = require('./regression.js');\n",
        "var result = regression.linear(datos_a_ajustar_sodio, { precision: 15 });\n",
        "var m_sodio = result.equation[0];  // pendiente\n",
        "var b_sodio = result.equation[1];  // ordenada en origen\n",
        "console.log('la pendiente es = ' + m_sodio + ' y la ordenada es = ' + b_sodio);"
      ],
      "outputs": [
        {
          "output_type": "stream",
          "name": "stdout",
          "text": [
            "la pendiente es = -0.000001244344897 y la ordenada es = 2.360332322029762\n"
          ]
        }
      ],
      "execution_count": 9,
      "metadata": {
        "execution": {
          "iopub.execute_input": "2020-11-28T09:29:15.924Z",
          "iopub.status.busy": "2020-11-28T09:29:15.917Z",
          "iopub.status.idle": "2020-11-28T09:29:15.937Z",
          "shell.execute_reply": "2020-11-28T09:29:15.440Z"
        },
        "jupyter": {
          "outputs_hidden": false,
          "source_hidden": false
        },
        "nteract": {
          "transient": {
            "deleting": false
          }
        }
      }
    },
    {
      "cell_type": "code",
      "source": [
        "/*************************************************************************\n",
        "*  Calcular regresion de datos - zinc\n",
        "**************************************************************************/\n",
        "var regression = require('./regression.js');\n",
        "var result = regression.linear(datos_a_ajustar_zinc, { precision: 15 });\n",
        "var m_zinc = result.equation[0];  // pendiente\n",
        "var b_zinc = result.equation[1];  // ordenada en origen\n",
        "console.log('la pendiente es = ' + m_zinc + ' y la ordenada es = ' + b_zinc);"
      ],
      "outputs": [
        {
          "output_type": "stream",
          "name": "stdout",
          "text": [
            "la pendiente es = -0.000001242244898 y la ordenada es = 4.368469388\n"
          ]
        }
      ],
      "execution_count": 10,
      "metadata": {
        "execution": {
          "iopub.execute_input": "2020-11-28T09:29:15.956Z",
          "iopub.status.busy": "2020-11-28T09:29:15.949Z",
          "iopub.status.idle": "2020-11-28T09:29:15.969Z",
          "shell.execute_reply": "2020-11-28T09:29:15.449Z"
        },
        "jupyter": {
          "outputs_hidden": false,
          "source_hidden": false
        },
        "nteract": {
          "transient": {
            "deleting": false
          }
        }
      }
    },
    {
      "cell_type": "code",
      "source": [
        "/*************************************************************************\n",
        "*  Calcular regresion de datos - calcio\n",
        "**************************************************************************/\n",
        "var regression = require('./regression.js');\n",
        "var result = regression.linear(datos_a_ajustar_calcio, { precision: 15 });\n",
        "var m_calcio = result.equation[0];  // pendiente\n",
        "var b_calcio = result.equation[1];  // ordenada en origen\n",
        "console.log('la pendiente es = ' + m_calcio + ' y la ordenada es = ' + b_calcio);"
      ],
      "outputs": [
        {
          "output_type": "stream",
          "name": "stdout",
          "text": [
            "la pendiente es = -0.000001264418146 y la ordenada es = 3.056778435404762\n"
          ]
        }
      ],
      "execution_count": 11,
      "metadata": {
        "execution": {
          "iopub.execute_input": "2020-11-28T09:29:15.986Z",
          "iopub.status.busy": "2020-11-28T09:29:15.980Z",
          "iopub.status.idle": "2020-11-28T09:29:16.000Z",
          "shell.execute_reply": "2020-11-28T09:29:15.462Z"
        },
        "jupyter": {
          "outputs_hidden": false,
          "source_hidden": false
        },
        "nteract": {
          "transient": {
            "deleting": false
          }
        }
      }
    },
    {
      "cell_type": "code",
      "source": [
        "/*************************************************************************\n",
        "*  Calcular regresion de datos - cobre\n",
        "**************************************************************************/\n",
        "var regression = require('./regression.js');\n",
        "var result = regression.linear(datos_a_ajustar_cobre, { precision: 15 });\n",
        "var m_cobre = result.equation[0];  // pendiente\n",
        "var b_cobre = result.equation[1];  // ordenada en origen\n",
        "console.log('la pendiente es = ' + m_cobre + ' y la ordenada es = ' + b_cobre);"
      ],
      "outputs": [
        {
          "output_type": "stream",
          "name": "stdout",
          "text": [
            "la pendiente es = -0.000001262608696 y la ordenada es = 4.954347828333332\n"
          ]
        }
      ],
      "execution_count": 12,
      "metadata": {
        "execution": {
          "iopub.execute_input": "2020-11-28T09:29:16.016Z",
          "iopub.status.busy": "2020-11-28T09:29:16.010Z",
          "iopub.status.idle": "2020-11-28T09:29:16.027Z",
          "shell.execute_reply": "2020-11-28T09:29:15.471Z"
        },
        "jupyter": {
          "outputs_hidden": false,
          "source_hidden": false
        },
        "nteract": {
          "transient": {
            "deleting": false
          }
        }
      }
    },
    {
      "cell_type": "markdown",
      "source": [
        "$$  $$\n",
        "Como se puede observar de las mediciones experimentales anteriores, el valor de la pendiente, $m$, permanece practicamente invariable, mientras que el valor de la ordenada, $b$, es variable en relación del metal con que se experimenta.\n",
        "Esto es así, y se demostrará seguidamente, porque $m$ está determinada por un valor constante, la denominada constante de Plank, mientras que $b$ está determinada por lo que llamaremos Energía de arranque, o función de trabajo, la cual es diferente para cada metal.\n",
        "$$  $$"
      ],
      "metadata": {
        "nteract": {
          "transient": {
            "deleting": false
          }
        }
      }
    },
    {
      "cell_type": "markdown",
      "source": [
        "## Segundo ejercicio\n",
        "*Obtención de $\\hslash$ (constante de Plank) y $\\phi$ (la función de trabajo)*.  \n",
        "\n",
        "Tal como se ha comentado en el primer punto de la actividad, sabemos que, para una velocidad de propagación constante $(c)$, la frecuencia $(f)$ es inversa de la longitud de onda $(\\lambda)$, por la velocidad.  \n",
        "\n",
        "$$ f=\\frac{c}{\\lambda} \\text{, donde } c \\text{ puede ser la velocidad de la luz.} $$\n",
        "\n",
        "Partiendo de la expresión ($ eV=2\\pi\\hslash f-\\phi $) se puede deducir que,\n",
        "\n",
        "$$ eV=2\\pi\\hslash \\frac{c}{\\lambda}-\\phi \\Rightarrow V= \\frac{2c\\pi\\hslash}{e} \\frac{1}{\\lambda}-\\frac{\\phi}{e} $$\n",
        "\n",
        "Como hemos visto anteriormente, se ha usado esta expresión para obtener la ecuación de la recta, tal que: \n",
        "\n",
        "$$ V= m \\frac{1}{\\lambda}+b $$\n",
        "\n",
        "donde $m$ es la pendiente de la recta calculada, y $b$ es la ordenada que se obtiene en función de cada elemento utilizado.\n",
        "\n",
        "Por lo tanto, podemos decir que:\n",
        "\n",
        "$$ m=\\frac{2c\\pi\\hslash}{e} \\Rightarrow \\hslash=\\frac{em}{2c\\pi} $$\n",
        "\n",
        "y que:\n",
        "\n",
        "$$ b=-\\frac{\\phi}{e} \\Rightarrow \\phi=-be $$\n",
        "\n",
        "Con los resultados obtenidos en cualquiera de las regresiones tenemos, por ejemplo el sodio,\n",
        "\n",
        "$$ \\hslash=\\frac{ -1.244 \\cdot 10^{-6} \\cdot e }{2c\\pi} \\Rightarrow h=\\frac{ -1.244 \\cdot 10^{-6} \\cdot e }{c}$$\n",
        "$$  $$\n",
        "$$ \\phi_{cu}=-2.36e $$"
      ],
      "metadata": {
        "nteract": {
          "transient": {
            "deleting": false
          }
        }
      }
    },
    {
      "cell_type": "markdown",
      "source": [
        "## Tercer ejercicio\n",
        "*Representar gráficamente los datos experimentales y la recta obtenida.*\n",
        "\n",
        "Para ello, vamos a hacer uso de la biblioteca ya integrada en nteract \"Plotly\"\n",
        "$$  $$"
      ],
      "metadata": {
        "nteract": {
          "transient": {
            "deleting": false
          }
        }
      }
    },
    {
      "cell_type": "code",
      "source": [
        "/*************************************************************************\n",
        "*  Habilitar librería de representación gráfica JS para nteract\n",
        "**************************************************************************/\n",
        "function Plotly(data, layout, $$) {\n",
        "    $$ = $$ || global.$$;\n",
        "    $$.mime({ \"application/vnd.plotly.v1+json\": { data: data, layout: layout } });\n",
        "}"
      ],
      "outputs": [],
      "execution_count": 13,
      "metadata": {
        "execution": {
          "iopub.execute_input": "2020-11-28T09:29:16.044Z",
          "iopub.status.busy": "2020-11-28T09:29:16.037Z",
          "iopub.status.idle": "2020-11-28T09:29:16.052Z",
          "shell.execute_reply": "2020-11-28T09:29:15.482Z"
        },
        "jupyter": {
          "outputs_hidden": false,
          "source_hidden": false
        },
        "nteract": {
          "transient": {
            "deleting": false
          }
        },
        "tags": [
          "parameters"
        ]
      }
    },
    {
      "cell_type": "markdown",
      "source": [
        "Para dibujar la recta, tenemos que calcular los puntos $y$ (voltajes) para los mismos valores de $x$ (inversas de las longitudes de onda medidas con el applet), con los resultados de $m$ y $b$ que hemos obtenido con el ajuste anterior.\n",
        "\n",
        "Matemáticamente:\n",
        "$$V_{calculado}\\, = m\\, \\cdot\\, \\frac{1}{\\lambda}\\, + \\, b$$"
      ],
      "metadata": {
        "nteract": {
          "transient": {
            "deleting": false
          }
        }
      }
    },
    {
      "cell_type": "markdown",
      "source": [
        "En Javascript este cálculo se puede hacer de manera muy sencilla, mediante el método $map$ sobre el array de frecuencias medidas:"
      ],
      "metadata": {
        "nteract": {
          "transient": {
            "deleting": false
          }
        }
      }
    },
    {
      "cell_type": "code",
      "source": [
        "/*************************************************************************\n",
        "*  Cálculo de potencial de frenado utilizando m y b obtenidos - sodio\n",
        "**************************************************************************/\n",
        "voltajes_calculados_sodio = inversa_de_longitudes_de_onda_sodio.map(inversa_lambda => inversa_lambda * m_sodio + b_sodio);\n",
        "console.log(voltajes_calculados_sodio);"
      ],
      "outputs": [
        {
          "output_type": "stream",
          "name": "stdout",
          "text": [
            "[ -2.6170472659702377,\n",
            "  -1.787484001303571,\n",
            "  -1.1949388122559519,\n",
            "  -0.750529920470238 ]\n"
          ]
        }
      ],
      "execution_count": 14,
      "metadata": {
        "execution": {
          "iopub.execute_input": "2020-11-28T09:29:16.068Z",
          "iopub.status.busy": "2020-11-28T09:29:16.062Z",
          "iopub.status.idle": "2020-11-28T09:29:16.082Z",
          "shell.execute_reply": "2020-11-28T09:29:15.494Z"
        },
        "jupyter": {
          "outputs_hidden": false,
          "source_hidden": false
        },
        "nteract": {
          "transient": {
            "deleting": false
          }
        }
      }
    },
    {
      "cell_type": "code",
      "source": [
        "/*************************************************************************\n",
        "*  Cálculo de potencial de frenado utilizando m y b obtenidos - zinc\n",
        "**************************************************************************/\n",
        "voltajes_calculados_zinc = inversa_de_longitudes_de_onda_zinc.map(inversa_lambda => inversa_lambda * m_zinc + b_zinc);\n",
        "console.log(voltajes_calculados_zinc);"
      ],
      "outputs": [
        {
          "output_type": "stream",
          "name": "stdout",
          "text": [
            "[ -5.983571428666665,\n",
            "  -3.913163265333332,\n",
            "  -1.842755102,\n",
            "  -0.600510203999999 ]\n"
          ]
        }
      ],
      "execution_count": 15,
      "metadata": {
        "execution": {
          "iopub.execute_input": "2020-11-28T09:29:16.098Z",
          "iopub.status.busy": "2020-11-28T09:29:16.092Z",
          "iopub.status.idle": "2020-11-28T09:29:16.110Z",
          "shell.execute_reply": "2020-11-28T09:29:15.503Z"
        },
        "jupyter": {
          "outputs_hidden": false,
          "source_hidden": false
        },
        "nteract": {
          "transient": {
            "deleting": false
          }
        }
      }
    },
    {
      "cell_type": "code",
      "source": [
        "/*************************************************************************\n",
        "*  Cálculo de potencial de frenado utilizando m y b obtenidos - calcio\n",
        "**************************************************************************/\n",
        "voltajes_calculados_calcio = inversa_de_longitudes_de_onda_calcio.map(inversa_lambda => inversa_lambda * m_calcio + b_calcio);"
      ],
      "outputs": [
        {
          "output_type": "execute_result",
          "execution_count": 16,
          "data": {
            "text/plain": "[ -3.265312294595238,\n  -2.0008941485952376,\n  -1.1579487179285715,\n  -0.5558448388809523 ]"
          },
          "metadata": {}
        }
      ],
      "execution_count": 16,
      "metadata": {
        "execution": {
          "iopub.execute_input": "2020-11-28T09:29:16.127Z",
          "iopub.status.busy": "2020-11-28T09:29:16.120Z",
          "iopub.status.idle": "2020-11-28T09:29:16.140Z",
          "shell.execute_reply": "2020-11-28T09:29:15.511Z"
        },
        "jupyter": {
          "outputs_hidden": false,
          "source_hidden": false
        },
        "nteract": {
          "transient": {
            "deleting": false
          }
        }
      }
    },
    {
      "cell_type": "code",
      "source": [
        "/*************************************************************************\n",
        "*  Cálculo de potencial de frenado utilizando m y b obtenidos - cobre\n",
        "**************************************************************************/\n",
        "voltajes_calculados_cobre = inversa_de_longitudes_de_onda_cobre.map(inversa_lambda => inversa_lambda * m_cobre + b_cobre);"
      ],
      "outputs": [
        {
          "output_type": "execute_result",
          "execution_count": 17,
          "data": {
            "text/plain": "[ -7.671739131666668,\n  -3.4630434783333337,\n  -1.3586956516666682,\n  -0.30652173833333407 ]"
          },
          "metadata": {}
        }
      ],
      "execution_count": 17,
      "metadata": {
        "execution": {
          "iopub.execute_input": "2020-11-28T09:29:16.157Z",
          "iopub.status.busy": "2020-11-28T09:29:16.151Z",
          "iopub.status.idle": "2020-11-28T09:29:16.169Z",
          "shell.execute_reply": "2020-11-28T09:29:15.519Z"
        },
        "jupyter": {
          "outputs_hidden": false,
          "source_hidden": false
        },
        "nteract": {
          "transient": {
            "deleting": false
          }
        }
      }
    },
    {
      "cell_type": "markdown",
      "source": [
        "De esta forma, comprobamos que los valores calculados mediante JavaScript coinciden aproximadamente con los obtenidos inicialmente de forma experimental:\n",
        "\n"
      ],
      "metadata": {
        "nteract": {
          "transient": {
            "deleting": false
          }
        }
      }
    },
    {
      "cell_type": "code",
      "source": [
        "/*************************************************************************\n",
        "*  Comparar resultados: datos experimentales vs datos calculados - sodio\n",
        "**************************************************************************/\n",
        "console.log('SODIO');\n",
        "console.log('------');\n",
        "console.log('En el caso del sodio, los voltajes medidos en el experimento: ');\n",
        "console.log(voltajes_medidos_sodio);\n",
        "console.log('');\n",
        "console.log(' son aproximadamente iguales a los voltajes obtenidos matemáticamente: ');\n",
        "console.log(voltajes_calculados_sodio);"
      ],
      "outputs": [
        {
          "output_type": "stream",
          "name": "stdout",
          "text": [
            "SODIO\n",
            "------\n",
            "En el caso del sodio, los voltajes medidos en el experimento: \n",
            "[ -2.62, -1.78, -1.2, -0.75 ]\n",
            "\n",
            " son aproximadamente iguales a los voltajes obtenidos matemáticamente: \n",
            "[ -2.6170472659702377,\n",
            "  -1.787484001303571,\n",
            "  -1.1949388122559519,\n",
            "  -0.750529920470238 ]\n"
          ]
        }
      ],
      "execution_count": 41,
      "metadata": {
        "execution": {
          "iopub.execute_input": "2020-11-28T09:29:16.188Z",
          "iopub.status.busy": "2020-11-28T09:29:16.182Z",
          "iopub.status.idle": "2020-11-28T09:29:16.227Z",
          "shell.execute_reply": "2020-11-28T09:29:15.528Z"
        },
        "jupyter": {
          "outputs_hidden": false,
          "source_hidden": false
        },
        "nteract": {
          "transient": {
            "deleting": false
          }
        }
      }
    },
    {
      "cell_type": "code",
      "source": [
        "/*************************************************************************\n",
        "*  Comparar resultados: datos experimentales vs datos calculados - zinc\n",
        "**************************************************************************/\n",
        "console.log('ZINC');\n",
        "console.log('------');\n",
        "console.log('En el caso del zinc, los voltajes medidos en el experimento: ');\n",
        "console.log(voltajes_medidos_zinc);\n",
        "console.log('');\n",
        "console.log(' son aproximadamente iguales a los voltajes obtenidos matemáticamente: ');\n",
        "console.log(voltajes_calculados_zinc);"
      ],
      "outputs": [
        {
          "output_type": "stream",
          "name": "stdout",
          "text": [
            "ZINC\n",
            "------\n",
            "En el caso del zinc, los voltajes medidos en el experimento: \n",
            "[ -5.98, -3.92, -1.84, -0.6 ]\n",
            "\n",
            " son aproximadamente iguales a los voltajes obtenidos matemáticamente: \n",
            "[ -5.983571428666665,\n",
            "  -3.913163265333332,\n",
            "  -1.842755102,\n",
            "  -0.600510203999999 ]\n"
          ]
        }
      ],
      "execution_count": 19,
      "metadata": {
        "execution": {
          "iopub.execute_input": "2020-11-28T09:29:16.245Z",
          "iopub.status.busy": "2020-11-28T09:29:16.238Z",
          "iopub.status.idle": "2020-11-28T09:29:16.282Z",
          "shell.execute_reply": "2020-11-28T09:29:15.536Z"
        },
        "jupyter": {
          "outputs_hidden": false,
          "source_hidden": false
        },
        "nteract": {
          "transient": {
            "deleting": false
          }
        }
      }
    },
    {
      "cell_type": "code",
      "source": [
        "/*************************************************************************\n",
        "*  Comparar resultados: datos experimentales vs datos calculados - calcio\n",
        "**************************************************************************/\n",
        "console.log('CALCIO');\n",
        "console.log('------');\n",
        "console.log('En el caso del calcio, los voltajes medidos en el experimento: ');\n",
        "console.log(voltajes_medidos_calcio);\n",
        "console.log('');\n",
        "console.log(' son aproximadamente iguales a los voltajes obtenidos matemáticamente: ');\n",
        "console.log(voltajes_calculados_calcio);"
      ],
      "outputs": [
        {
          "output_type": "stream",
          "name": "stdout",
          "text": [
            "CALCIO\n",
            "------\n",
            "En el caso del calcio, los voltajes medidos en el experimento: \n",
            "[ -3.26, -2.01, -1.16, -0.55 ]\n",
            "\n",
            " son aproximadamente iguales a los voltajes obtenidos matemáticamente: \n",
            "[ -3.265312294595238,\n",
            "  -2.0008941485952376,\n",
            "  -1.1579487179285715,\n",
            "  -0.5558448388809523 ]\n"
          ]
        }
      ],
      "execution_count": 20,
      "metadata": {
        "execution": {
          "iopub.execute_input": "2020-11-28T09:29:16.298Z",
          "iopub.status.busy": "2020-11-28T09:29:16.292Z",
          "iopub.status.idle": "2020-11-28T09:29:16.339Z",
          "shell.execute_reply": "2020-11-28T09:29:15.546Z"
        },
        "jupyter": {
          "outputs_hidden": false,
          "source_hidden": false
        },
        "nteract": {
          "transient": {
            "deleting": false
          }
        }
      }
    },
    {
      "cell_type": "code",
      "source": [
        "/*************************************************************************\n",
        "*  Comparar resultados: datos experimentales vs datos calculados - cobre\n",
        "**************************************************************************/\n",
        "console.log('COBRE');\n",
        "console.log('------');\n",
        "console.log('En el caso del cobre, los voltajes medidos en el experimento: ');\n",
        "console.log(voltajes_medidos_cobre);\n",
        "console.log('');\n",
        "console.log(' son aproximadamente iguales a los voltajes obtenidos matemáticamente: ');\n",
        "console.log(voltajes_calculados_cobre);"
      ],
      "outputs": [
        {
          "output_type": "stream",
          "name": "stdout",
          "text": [
            "COBRE\n",
            "------\n",
            "En el caso del cobre, los voltajes medidos en el experimento: \n",
            "[ -7.64, -3.52, -1.41, -0.23 ]\n",
            "\n",
            " son aproximadamente iguales a los voltajes obtenidos matemáticamente: \n",
            "[ -7.671739131666668,\n",
            "  -3.4630434783333337,\n",
            "  -1.3586956516666682,\n",
            "  -0.30652173833333407 ]\n"
          ]
        }
      ],
      "execution_count": 21,
      "metadata": {
        "execution": {
          "iopub.execute_input": "2020-11-28T09:29:16.355Z",
          "iopub.status.busy": "2020-11-28T09:29:16.349Z",
          "iopub.status.idle": "2020-11-28T09:29:16.395Z",
          "shell.execute_reply": "2020-11-28T09:29:15.555Z"
        },
        "jupyter": {
          "outputs_hidden": false,
          "source_hidden": false
        },
        "nteract": {
          "transient": {
            "deleting": false
          }
        }
      }
    },
    {
      "cell_type": "markdown",
      "source": [
        "$$  $$\n",
        "Para una mejor interpretación de los datos, dibujamos a continuación ambas rectas obtenidas en una misma gráfica (gracias a la función \"Plotly\" anteriormente habilitada), lo que nos permite compararlas fácilmente de manera visual y para cada uno de los metales:\n",
        "$$  $$"
      ],
      "metadata": {
        "nteract": {
          "transient": {
            "deleting": false
          }
        }
      }
    },
    {
      "cell_type": "code",
      "source": [
        "/*************************************************************************\n",
        "*  Dibujar gráfica: datos experimentales vs datos calculados - sodio\n",
        "**************************************************************************/\n",
        "datos = [\n",
        "  { x: inversa_de_longitudes_de_onda_sodio, y: voltajes_medidos_sodio, name: 'Datos experimentales' }, \n",
        "  \n",
        "  { x: inversa_de_longitudes_de_onda_sodio, y: voltajes_calculados_sodio, name: 'Datos calculados' }\n",
        "];\n",
        "var layout = {\n",
        "  title: 'Datos experimentales vs Datos calculados',\n",
        "  xaxis: { title: 'Longitud de onda en MHz', titlefont: { family: 'Courier New, monospace', size: 18, color: '#7f7f7f' } },\n",
        "  yaxis: { title: 'Potencial de frenado en V', titlefont: { family: 'Courier New, monospace', size: 18, color: '#7f7f7f' } }\n",
        "};\n",
        "Plotly(datos, layout);"
      ],
      "outputs": [
        {
          "output_type": "execute_result",
          "execution_count": 22,
          "data": {
            "application/vnd.plotly.v1+json": {
              "data": [
                {
                  "name": "Datos experimentales",
                  "x": [
                    3999999.9999999995,
                    3333333.333333333,
                    2857142.857142857,
                    2500000
                  ],
                  "y": [
                    -2.62,
                    -1.78,
                    -1.2,
                    -0.75
                  ]
                },
                {
                  "name": "Datos calculados",
                  "x": [
                    3999999.9999999995,
                    3333333.333333333,
                    2857142.857142857,
                    2500000
                  ],
                  "y": [
                    -2.6170472659702377,
                    -1.787484001303571,
                    -1.1949388122559519,
                    -0.750529920470238
                  ]
                }
              ],
              "layout": {
                "title": "Datos experimentales vs Datos calculados",
                "xaxis": {
                  "title": "Longitud de onda",
                  "titlefont": {
                    "color": "#7f7f7f",
                    "family": "Courier New, monospace",
                    "size": 18
                  }
                },
                "yaxis": {
                  "title": "Potencial de frenado",
                  "titlefont": {
                    "color": "#7f7f7f",
                    "family": "Courier New, monospace",
                    "size": 18
                  }
                }
              }
            }
          },
          "metadata": {}
        }
      ],
      "execution_count": 22,
      "metadata": {
        "execution": {
          "iopub.execute_input": "2020-11-28T09:29:16.413Z",
          "iopub.status.busy": "2020-11-28T09:29:16.406Z",
          "iopub.status.idle": "2020-11-28T09:29:16.463Z",
          "shell.execute_reply": "2020-11-28T09:29:15.568Z"
        },
        "jupyter": {
          "outputs_hidden": false,
          "source_hidden": false
        },
        "nteract": {
          "transient": {
            "deleting": false
          }
        },
        "scrolled": true
      }
    },
    {
      "cell_type": "code",
      "source": [
        "/*************************************************************************\n",
        "*  Dibujar gráfica: datos experimentales vs datos calculados - zinc\n",
        "**************************************************************************/\n",
        "datos = [\n",
        "  { x: inversa_de_longitudes_de_onda_zinc, y: voltajes_medidos_zinc, name: 'Datos experimentales' }, \n",
        "  \n",
        "  { x: inversa_de_longitudes_de_onda_zinc, y: voltajes_calculados_zinc, name: 'Datos calculados' }\n",
        "];\n",
        "var layout = {\n",
        "  title: 'Datos experimentales vs Datos calculados',\n",
        "  xaxis: { title: 'Longitud de onda en MHz', titlefont: { family: 'Courier New, monospace', size: 18, color: '#7f7f7f' } },\n",
        "  yaxis: { title: 'Potencial de frenado en V', titlefont: { family: 'Courier New, monospace', size: 18, color: '#7f7f7f' } }\n",
        "};\n",
        "Plotly(datos, layout);"
      ],
      "outputs": [
        {
          "output_type": "execute_result",
          "execution_count": 23,
          "data": {
            "application/vnd.plotly.v1+json": {
              "data": [
                {
                  "name": "Datos experimentales",
                  "x": [
                    8333333.333333332,
                    6666666.666666666,
                    5000000,
                    3999999.9999999995
                  ],
                  "y": [
                    -5.98,
                    -3.92,
                    -1.84,
                    -0.6
                  ]
                },
                {
                  "name": "Datos calculados",
                  "x": [
                    8333333.333333332,
                    6666666.666666666,
                    5000000,
                    3999999.9999999995
                  ],
                  "y": [
                    -5.983571428666665,
                    -3.913163265333332,
                    -1.842755102,
                    -0.600510203999999
                  ]
                }
              ],
              "layout": {
                "title": "Datos experimentales vs Datos calculados",
                "xaxis": {
                  "title": "Longitud de onda",
                  "titlefont": {
                    "color": "#7f7f7f",
                    "family": "Courier New, monospace",
                    "size": 18
                  }
                },
                "yaxis": {
                  "title": "Potencial de frenado",
                  "titlefont": {
                    "color": "#7f7f7f",
                    "family": "Courier New, monospace",
                    "size": 18
                  }
                }
              }
            }
          },
          "metadata": {}
        }
      ],
      "execution_count": 23,
      "metadata": {
        "execution": {
          "iopub.execute_input": "2020-11-28T09:29:16.481Z",
          "iopub.status.busy": "2020-11-28T09:29:16.474Z",
          "iopub.status.idle": "2020-11-28T09:29:16.526Z",
          "shell.execute_reply": "2020-11-28T09:29:15.578Z"
        },
        "jupyter": {
          "outputs_hidden": false,
          "source_hidden": false
        },
        "nteract": {
          "transient": {
            "deleting": false
          }
        }
      }
    },
    {
      "cell_type": "code",
      "source": [
        "/*************************************************************************\n",
        "*  Dibujar gráfica: datos experimentales vs datos calculados - calcio\n",
        "**************************************************************************/\n",
        "datos = [\n",
        "  { x: inversa_de_longitudes_de_onda_calcio, y: voltajes_medidos_calcio, name: 'Datos experimentales' }, \n",
        "  \n",
        "  { x: inversa_de_longitudes_de_onda_calcio, y: voltajes_calculados_calcio, name: 'Datos calculados' }\n",
        "];\n",
        "var layout = {\n",
        "  title: 'Datos experimentales vs Datos calculados',\n",
        "  xaxis: { title: 'Longitud de onda en MHz', titlefont: { family: 'Courier New, monospace', size: 18, color: '#7f7f7f' } },\n",
        "  yaxis: { title: 'Potencial de frenado en V', titlefont: { family: 'Courier New, monospace', size: 18, color: '#7f7f7f' } }\n",
        "};\n",
        "Plotly(datos, layout);"
      ],
      "outputs": [
        {
          "output_type": "execute_result",
          "execution_count": 24,
          "data": {
            "application/vnd.plotly.v1+json": {
              "data": [
                {
                  "name": "Datos experimentales",
                  "x": [
                    5000000,
                    3999999.9999999995,
                    3333333.333333333,
                    2857142.857142857
                  ],
                  "y": [
                    -3.26,
                    -2.01,
                    -1.16,
                    -0.55
                  ]
                },
                {
                  "name": "Datos calculados",
                  "x": [
                    5000000,
                    3999999.9999999995,
                    3333333.333333333,
                    2857142.857142857
                  ],
                  "y": [
                    -3.265312294595238,
                    -2.0008941485952376,
                    -1.1579487179285715,
                    -0.5558448388809523
                  ]
                }
              ],
              "layout": {
                "title": "Datos experimentales vs Datos calculados",
                "xaxis": {
                  "title": "Longitud de onda",
                  "titlefont": {
                    "color": "#7f7f7f",
                    "family": "Courier New, monospace",
                    "size": 18
                  }
                },
                "yaxis": {
                  "title": "Potencial de frenado",
                  "titlefont": {
                    "color": "#7f7f7f",
                    "family": "Courier New, monospace",
                    "size": 18
                  }
                }
              }
            }
          },
          "metadata": {}
        }
      ],
      "execution_count": 24,
      "metadata": {
        "execution": {
          "iopub.execute_input": "2020-11-28T09:29:16.544Z",
          "iopub.status.busy": "2020-11-28T09:29:16.537Z",
          "iopub.status.idle": "2020-11-28T09:29:16.593Z",
          "shell.execute_reply": "2020-11-28T09:29:15.586Z"
        },
        "jupyter": {
          "outputs_hidden": false,
          "source_hidden": false
        },
        "nteract": {
          "transient": {
            "deleting": false
          }
        }
      }
    },
    {
      "cell_type": "code",
      "source": [
        "/*************************************************************************\n",
        "*  Dibujar gráfica: datos experimentales vs datos calculados - cobre\n",
        "**************************************************************************/\n",
        "datos = [\n",
        "  { x: inversa_de_longitudes_de_onda_cobre, y: voltajes_medidos_cobre, name: 'Datos experimentales' }, \n",
        "  \n",
        "  { x: inversa_de_longitudes_de_onda_cobre, y: voltajes_calculados_cobre, name: 'Datos calculados' }\n",
        "];\n",
        "var layout = {\n",
        "  title: 'Datos experimentales vs Datos calculados',\n",
        "  xaxis: { title: 'Longitud de onda en MHz', titlefont: { family: 'Courier New, monospace', size: 18, color: '#7f7f7f' } },\n",
        "  yaxis: { title: 'Potencial de frenado en V', titlefont: { family: 'Courier New, monospace', size: 18, color: '#7f7f7f' } }\n",
        "};\n",
        "Plotly(datos, layout);"
      ],
      "outputs": [
        {
          "output_type": "execute_result",
          "execution_count": 25,
          "data": {
            "application/vnd.plotly.v1+json": {
              "data": [
                {
                  "name": "Datos experimentales",
                  "x": [
                    10000000,
                    6666666.666666666,
                    5000000,
                    4166666.666666666
                  ],
                  "y": [
                    -7.64,
                    -3.52,
                    -1.41,
                    -0.23
                  ]
                },
                {
                  "name": "Datos calculados",
                  "x": [
                    10000000,
                    6666666.666666666,
                    5000000,
                    4166666.666666666
                  ],
                  "y": [
                    -7.671739131666668,
                    -3.4630434783333337,
                    -1.3586956516666682,
                    -0.30652173833333407
                  ]
                }
              ],
              "layout": {
                "title": "Datos experimentales vs Datos calculados",
                "xaxis": {
                  "title": "Longitud de onda",
                  "titlefont": {
                    "color": "#7f7f7f",
                    "family": "Courier New, monospace",
                    "size": 18
                  }
                },
                "yaxis": {
                  "title": "Potencial de frenado",
                  "titlefont": {
                    "color": "#7f7f7f",
                    "family": "Courier New, monospace",
                    "size": 18
                  }
                }
              }
            }
          },
          "metadata": {}
        }
      ],
      "execution_count": 25,
      "metadata": {
        "execution": {
          "iopub.execute_input": "2020-11-28T09:29:16.612Z",
          "iopub.status.busy": "2020-11-28T09:29:16.604Z",
          "iopub.status.idle": "2020-11-28T09:29:16.658Z",
          "shell.execute_reply": "2020-11-28T09:29:15.596Z"
        },
        "jupyter": {
          "outputs_hidden": false,
          "source_hidden": false
        },
        "nteract": {
          "transient": {
            "deleting": false
          }
        }
      }
    },
    {
      "cell_type": "markdown",
      "source": [
        "## Cuarto ejercicio\n",
        "Continuamos el experimento, modificando ahora el control de intensidad de la luz para una longitud de onda de 100 nm y un metal cualquiera, como por ejemplo el sodio."
      ],
      "metadata": {
        "nteract": {
          "transient": {
            "deleting": false
          }
        }
      }
    },
    {
      "cell_type": "markdown",
      "source": [
        "![](https://i.imgur.com/Zi4lEOf.gif)\n",
        "\n",
        "_**Experimentación en applet PhET con la intensidad de la luz para una $\\lambda = 100\\, \\mathrm{nm}$**_\n",
        "\n",
        "[source - imgur GIF](https://i.imgur.com/Zi4lEOf.gif)"
      ],
      "metadata": {
        "nteract": {
          "transient": {
            "deleting": false
          }
        }
      }
    },
    {
      "cell_type": "markdown",
      "source": [
        "*¿Qué le ocurre a la corriente que se mide con el amperímetro? ¿Qué relación se observa?*\n",
        "$$  $$\n",
        "En un primer momento, establecemos la intensidad de la luz al máximo y observamos como la corriente incrementa proporcionalmente respecto al voltaje (cuando este parte de valores negativos), pero al llegar el voltaje a los -6.10 $V$ aproximadamente, se estabiliza el valor de la corriente, tomando un valor de 0.882 $A$, que se mantendrá constante independientente de la diferencia de potencial tal y como se puede observar en la imagen anterior.   \n",
        "Posteriormente, mantendremos el voltaje a 0 $V$ y probaremos a cambiar la intensidad de la luz para comprobar que sucede con el amperaje. "
      ],
      "metadata": {
        "nteract": {
          "transient": {
            "deleting": false
          }
        }
      }
    },
    {
      "cell_type": "markdown",
      "source": [
        "*Nueva toma de medidas con el applet del efecto Fotoeléctrico.*\n",
        "$$ $$\n",
        "Se procede a la toma de nuevas muestras experimentales utilizando el sodio como metal para las pruebas, obteniendo parejas de valores de la intensidad de la luz respecto amperaje:\n",
        "\n",
        "| Intensidad ($\\%$)  | Corriente ($A$)  |   \n",
        "|---|---|\n",
        "|   0  | 0      |   \n",
        "|  20  | 0.176  |   \n",
        "|  40  | 0.353  |   \n",
        "|  60  | 0.529  |   \n",
        "|  80  | 0.706  |   \n",
        "| 100  | 0.882  |   \n",
        "\n",
        "$$ $$\n",
        "Al igual que en el ejercicio anterior, introducimos los valores resultantes en un array de Javascript, que nos permitirá representarlos en un gráfico utilizando nuevamente la biblioteca \"Plotly\".\n",
        "$$ $$"
      ],
      "metadata": {
        "nteract": {
          "transient": {
            "deleting": false
          }
        }
      }
    },
    {
      "cell_type": "code",
      "source": [
        "/*******************************************\n",
        "*  Amperajes medidos - sodio \n",
        "********************************************/\n",
        "var intensidad_de_luz_sodio= [0, 20, 40, 60, 80, 100]; // en porcentaje\n",
        "var amperajes_medidos_sodio = [0, 0.176, 0.353, 0.529, 0.706, 0.882];  // en amperios"
      ],
      "outputs": [],
      "execution_count": 26,
      "metadata": {
        "execution": {
          "iopub.execute_input": "2020-11-28T09:29:16.676Z",
          "iopub.status.busy": "2020-11-28T09:29:16.669Z",
          "iopub.status.idle": "2020-11-28T09:29:16.683Z",
          "shell.execute_reply": "2020-11-28T09:29:15.605Z"
        },
        "jupyter": {
          "outputs_hidden": false,
          "source_hidden": false
        },
        "nteract": {
          "transient": {
            "deleting": false
          }
        }
      }
    },
    {
      "cell_type": "markdown",
      "source": [
        "$$  $$\n",
        "Hacemos ahora un gráfica, para representar los datos experimentales obtenidos: los del amperaje medido respecto a la intensidad de luz establecida.\n",
        "$$  $$"
      ],
      "metadata": {
        "nteract": {
          "transient": {
            "deleting": false
          }
        }
      }
    },
    {
      "cell_type": "code",
      "source": [
        "/*************************************************************************\n",
        "*  Dibujar gráfica datos experimentales: Corriente vs Intensidad de la luz\n",
        "**************************************************************************/\n",
        "datos = [\n",
        "  { x: intensidad_de_luz_sodio, y: amperajes_medidos_sodio, name: 'Corriente vs Intensidad de la luz - Sodio' },\n",
        "];\n",
        "var layout = {\n",
        "  title: 'Corriente vs Intensidad de la luz',\n",
        "  xaxis: { title: 'Intensidad de la luz (%)', titlefont: { family: 'Courier New, monospace', size: 18, color: '#7f7f7f' } },\n",
        "  yaxis: { title: 'Corriente (A)', titlefont: { family: 'Courier New, monospace', size: 18, color: '#7f7f7f' } },\n",
        "};\n",
        "Plotly(datos, layout);"
      ],
      "outputs": [
        {
          "output_type": "execute_result",
          "execution_count": 32,
          "data": {
            "application/vnd.plotly.v1+json": {
              "data": [
                {
                  "name": "Corriente vs Intensidad de la luz - Sodio",
                  "x": [
                    0,
                    20,
                    40,
                    60,
                    80,
                    100
                  ],
                  "y": [
                    0,
                    0.176,
                    0.353,
                    0.529,
                    0.706,
                    0.882
                  ]
                }
              ],
              "layout": {
                "title": "Corriente vs Intensidad de la luz",
                "xaxis": {
                  "title": "Intensidad de la luz (%)",
                  "titlefont": {
                    "color": "#7f7f7f",
                    "family": "Courier New, monospace",
                    "size": 18
                  }
                },
                "yaxis": {
                  "title": "Corriente (A)",
                  "titlefont": {
                    "color": "#7f7f7f",
                    "family": "Courier New, monospace",
                    "size": 18
                  }
                }
              }
            }
          },
          "metadata": {}
        }
      ],
      "execution_count": 32,
      "metadata": {
        "execution": {
          "iopub.execute_input": "2020-11-28T09:38:35.829Z",
          "iopub.status.busy": "2020-11-28T09:38:35.820Z",
          "iopub.status.idle": "2020-11-28T09:38:35.876Z",
          "shell.execute_reply": "2020-11-28T09:38:35.884Z"
        },
        "jupyter": {
          "outputs_hidden": false,
          "source_hidden": false
        },
        "nteract": {
          "transient": {
            "deleting": false
          }
        }
      }
    },
    {
      "cell_type": "markdown",
      "source": [
        "# Cuestiones intermedias\n",
        "\n",
        "## Comprobación de que $\\mathrm eV$ tiene unidades de energía, siendo $e$ la carga del electrón.\n",
        "\n",
        "El $\\mathrm {eV}$ tiene dos unidades diferentes.\n",
        "\n",
        "- $e$ cuya unidad de carga es el Culombio $\\mathrm {(C)}$\n",
        "  \n",
        "- $V$ que se define como la diferencia de potencial existente entre dos puntos tales que hay que realizar un trabajo de 1 Julio $\\mathrm {(J)}$, para trasladar del uno al otro la carga de 1 Culombio $\\mathrm {(C)}$. Es decir, un Voltio $\\mathrm {(V)}$ es igual a $\\frac{\\mathrm J}{\\mathrm C}$.\n",
        "  \n",
        "\n",
        "Tenemos por tanto que $\\mathrm {eV} = \\mathrm C \\cdot \\frac{\\mathrm J}{\\mathrm C}$.\n",
        "\n",
        "Al despejar encontramos que $\\mathrm {eV} = \\mathrm J$, siendo el Julio $\\mathrm {(J)}$ la unidad básica de medida de la energía en el S.I.\n",
        "\n"
      ],
      "metadata": {
        "nteract": {
          "transient": {
            "deleting": false
          }
        }
      }
    },
    {
      "cell_type": "markdown",
      "source": [
        "## Demuestra que $ \\frac{x - x_1}{x_2 - x_1} = \\frac{y - y_1}{y_2 - y_1} $ es equivalente a $ y=mx + b $\n",
        "\n",
        "Dados dos puntos de la recta $ y=mx + b $, digamos $P(x_p, y_p)$ y $Q(x_q, y_q)$, se tiene que,\n",
        "$$ $$\n",
        "\n",
        "$$ \n",
        "\\left\\{\\begin{matrix}\n",
        "    y_p=mx_p+b\\\\ \n",
        "    y_q=mx_q+b\n",
        "\\end{matrix}\\right. \n",
        "$$\n",
        "\n",
        "$$b=y_p-mx_p $$ $$  $$\n",
        "$$y_q=mx_q+(y_p-mx_p) \\Rightarrow m(x_q-x_p)=y_q-y_p $$ $$  $$\n",
        "$$m= \\frac{y_q-y_p}{x_q-x_p} $$\n",
        "\n",
        "$$b=y_p-mx_p=y_p-\\left(\\frac{y_q-y_p}{x_q-x_p}\\right)x_p=\\frac{y_p\\left(x_q-x_p\\right)}{x_q-x_p}\\ -\\frac{x_p\\left(y_q-y_p\\right)}{x_q-x_p} $$ $$  $$\n",
        "$$b=\\frac{\\left(x_qy_p-x_py_p\\right)-\\left(x_py_q-x_py_p\\right)}{x_q-x_p}\\ =\\frac{x_qy_p-x_py_p-x_py_q+x_py_p}{x_q-x_p}$$ $$  $$\n",
        "$$b=\\frac{x_qy_p-x_py_q}{x_q-x_p}\\ $$\n",
        "\n",
        "por tanto, para la recta $ y=mx + b $ se tiene:\n",
        "\n",
        "**$$y=\\left(\\frac{y_q-y_p}{x_q-x_p}\\right)x\\ +\\ \\left(\\frac{x_qy_p-x_py_q}{x_q-x_p}\\right)$$**\n",
        "\n",
        "Partiendo de la premisa inicial,\n",
        "\n",
        "$$\\frac{x - x_1}{x_2 - x_1} = \\frac{y - y_1}{y_2 - y_1}$$ $$  $$\n",
        "$$y-y_1=\\frac{\\left(x-x_1\\right)\\left(y_2-y_1\\right)}{x_2-x_1}$$ $$  $$\n",
        "$$y=\\frac{\\left(x-x_1\\right)\\left(y_2-y_1\\right)}{x_2-x_1}+y_1=\\frac{\\left(x-x_1\\right)\\left(y_2-y_1\\right)+y_1\\left(x_2-x_1\\right)}{x_2-x_1}$$ $$  $$\n",
        "$$y=\\frac{xy_2-{xy}_1-x_1y_2+x_1y_1+x_2y_1-x_1y_1}{x_2-x_1}=\\frac{xy_2-{xy}_1-x_1y_2+x_2y_1}{x_2-x_1}$$ $$  $$\n",
        "$$y=\\frac{xy_2-{xy}_1}{x_2-x_1}+\\frac{x_2y_1-x_1y_2}{x_2-x_1}=\\frac{y_2-y_1}{x_2-x_1}x+\\frac{x_2y_1-x_1y_2}{x_2-x_1}$$\n",
        "\n",
        "**$$y=\\left(\\frac{y_2-y_1}{x_2-x_1}\\right)x+\\left(\\frac{x_2y_1-x_1y_2}{x_2-x_1}\\right) \\text{, siendo } P\\left(x_1,\\ y_1\\right) \\text{ y } Q\\left(x_2,\\ y_2\\right) $$**"
      ],
      "metadata": {
        "nteract": {
          "transient": {
            "deleting": false
          }
        }
      }
    },
    {
      "cell_type": "markdown",
      "source": [
        "## Preguntas\n",
        "$$ $$\n",
        "*¿Qué son los CDN?*\n",
        "$$ $$\n",
        "Una red de entrega de contenido, o red de distribución de contenido (CDN), es una red de servidores proxy y sus centros de datos, distribuidos geográficamente. El objetivo es proporcionar alta disponibilidad y rendimiento mediante la distribución espacial del servicio en relación con los usuarios finales. Abarca diferentes tipos de servicios de entrega de contenido: transmisión de video, descargas de software, aceleración de contenido web y móvil, etc.\n",
        "$$ $$\n",
        "[ref. - Content delivery network - Wikipedia](https://en.wikipedia.org/wiki/Content_delivery_network)\n",
        "\n",
        "![(Izquierda) Distribución de servidor único / (Derecha) Esquema de distribución CDN](https://upload.wikimedia.org/wikipedia/commons/f/f9/NCDN_-_CDN.png)\n",
        "\n",
        "_**(Izquierda) Distribución de servidor único / (Derecha) Esquema de distribución CDN**_\n",
        "\n",
        "[source - Content delivery network - Wikipedia](https://en.wikipedia.org/wiki/Content_delivery_network)\n",
        "\n",
        "$$ $$\n",
        "*¿Para qué sirve UNPKG y porqué es uno de los servicios más usados de Internet (junto con jspm, ESM, cdnjs, jsdelivr, …)?*\n",
        "$$ $$\n",
        "UNPKG es una CDN open source para npm. Permite cargar rápida y fácilmente cualquier archivo de cualquier paquete, usando una URL remota como la del ejemplo:\n",
        "\n",
        "_**<p style=\"text-align: center;\"> unpkg.com/:package@:version/:file </p>**_\n",
        "\n",
        "[ref. - UNPKG](https://unpkg.com/)\n",
        "$$ $$"
      ],
      "metadata": {}
    },
    {
      "cell_type": "markdown",
      "source": [
        "## Historia entorno al efecto fotoeléctrico\n",
        "\n",
        "Fue descubierto en 1887 por el físico alemán Heinrich Rudolf Hertz, en relación con su trabajo sobre ondas de radio y a su vez aclarado en 1902 por otro físico alemán, Philipp Lenard, que demostró que las partículas cargadas eléctricamente son liberadas de una superficie metálica cuando se ilumina y que estas partículas son idénticas a los electrones, que habían sido descubiertos por el físico británico Joseph John Thomson en 1897.\n",
        "\n",
        "Esta interacción entre la luz y la materia no puede ser explicada por la física clásica, lo que llevó a Albert Einstein a formular en 1905 una nueva teoría corpuscular de la luz, apoyándose en la constante universal que el físico alemán Max Planck derivó en 1900 para explicar la distribución de longitud de onda de la radiación del cuerpo negro. Aunque el modelo de Einstein describió la emisión de electrones de una placa iluminada, su hipótesis de fotones era lo suficientemente radical como para que no fuera universalmente aceptada hasta que recibió una verificación experimental adicional. La corroboración posterior ocurrió en 1916 cuando las mediciones extremadamente precisas del físico estadounidense Robert Millikan verificaron la ecuación de Einstein y mostraron con alta precisión que el valor de la constante h de Einstein era el mismo que el de la constante de Planck. Einstein fue finalmente galardonado con el Premio Nobel de Física en 1921 por explicar el efecto fotoeléctrico.\n",
        "\n",
        "> _\"If Planck had drawn this conclusion, he would probably not have made his great discovery\" (Einstein, 1949)_\n",
        "> <a href=\"https://medium.com/cantors-paradise/einsteins-1905-paper-on-the-photoelectric-effect-d258739ef8d1\">ref. - Jørgen Veisdal, Norwegian University of Science and Technology</a>, via Cantor's Paradise\n",
        "\n",
        "Un año después, en 1922, el físico estadounidense Arthur Compton midió el cambio en la longitud de onda de los rayos X después de que interactuaran con los electrones libres, y demostró que el cambio podía calcularse tratando los rayos X como hecho de fotones. Compton recibió el Premio Nobel de Física 1927 por esta obra.\n",
        "\n",
        "En 1931 el matemático británico Ralph Howard Fowler amplió la comprensión de la emisión fotoeléctrica estableciendo la relación entre la corriente fotoeléctrica y la temperatura en los metales. Posteriormente otros estudios demostraron que la radiación electromagnética también podía emitir electrones en los aislantes, que no conducen la electricidad, y en semiconductores, una variedad de aislantes que conducen la electricidad sólo en determinadas circunstancias.\n",
        "$$ $$\n",
        "<a href=\"https://www.britannica.com/science/photoelectric-effect/Applications\">ref. - Erik Gregersen, Senior Editor</a>, via Encyclopaedia Britannica\n",
        "\n",
        "Ahora y para terminar, la misma historia, pero en un formato un poco más entretenido...\n",
        "\n",
        "<html>\n",
        "    <body>\n",
        "        <iframe width=\"560\" height=\"315\" src=\"https://www.youtube.com/embed/0b0axfyJ4oo\" frameborder=\"0\" allow=\"accelerometer; autoplay; clipboard-write; encrypted-media; gyroscope; picture-in-picture\" allowfullscreen></iframe>\n",
        "    </body>\n",
        "</html>\n",
        "\n",
        "<a href=\"https://www.youtube.com/channel/UCNBpTILjeiCkVg9q0bRmhSA\">ref. - OpenMind</a>, via YouTube"
      ],
      "metadata": {
        "nteract": {
          "transient": {
            "deleting": false
          }
        }
      }
    }
  ],
  "metadata": {
    "kernel_info": {
      "name": "node_nteract"
    },
    "kernelspec": {
      "display_name": "Javascript (Node.js)",
      "language": "javascript",
      "name": "javascript"
    },
    "language_info": {
      "file_extension": ".js",
      "mimetype": "application/javascript",
      "name": "javascript",
      "version": "10.13.0"
    },
    "nteract": {
      "version": "0.26.0"
    }
  },
  "nbformat": 4,
  "nbformat_minor": 1
}
